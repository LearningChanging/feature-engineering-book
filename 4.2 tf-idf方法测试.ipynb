{
 "cells": [
  {
   "cell_type": "code",
   "execution_count": 2,
   "metadata": {},
   "outputs": [],
   "source": [
    "import json\n",
    "import numpy as np\n",
    "import pandas as pd\n",
    "from sklearn.feature_extraction import text\n",
    "from sklearn.linear_model import LogisticRegression\n",
    "import sklearn.model_selection as modsel\n",
    "import sklearn.preprocessing as preproc"
   ]
  },
  {
   "cell_type": "markdown",
   "metadata": {},
   "source": [
    "## 例4-1 使用 Python 加载并清理 Yelp 点评数据集\n",
    "Load and prep Yelp reviews data"
   ]
  },
  {
   "cell_type": "code",
   "execution_count": 3,
   "metadata": {},
   "outputs": [],
   "source": [
    "# Load Yelp Business data\n",
    "# 加载Yelp商家数据\n",
    "biz_f = open('data/yelp_dataset/business.json')\n",
    "biz_df = pd.DataFrame([json.loads(x) for x in biz_f.readlines()])\n",
    "biz_f.close()"
   ]
  },
  {
   "cell_type": "code",
   "execution_count": 4,
   "metadata": {},
   "outputs": [],
   "source": [
    "# Load Yelp Reviews data\n",
    "# 加载Yelp点评数据\n",
    "review_file = open('data/yelp_dataset/review.json')\n",
    "js = []\n",
    "for i in range(100000):\n",
    "    js.append(json.loads(review_file.readline()))\n",
    "review_file.close()\n",
    "review_df = pd.DataFrame(js)"
   ]
  },
  {
   "cell_type": "code",
   "execution_count": 5,
   "metadata": {},
   "outputs": [],
   "source": [
    "# Pull out only Nightlife and Restaurants businesses\n",
    "# 选取出夜店和餐馆\n",
    "two_biz = biz_df[biz_df['categories'].str.contains('Nightlife|Restaurants').fillna(False)]"
   ]
  },
  {
   "cell_type": "code",
   "execution_count": 6,
   "metadata": {},
   "outputs": [
    {
     "data": {
      "text/plain": [
       "(63904, 14)"
      ]
     },
     "execution_count": 6,
     "metadata": {},
     "output_type": "execute_result"
    }
   ],
   "source": [
    "two_biz.shape"
   ]
  },
  {
   "cell_type": "code",
   "execution_count": 7,
   "metadata": {},
   "outputs": [],
   "source": [
    "## Join with the reviews to get all reviews on the two types of business\n",
    "# 与点评数据连接，得到两种类型商家的所有点评\n",
    "twobiz_reviews = two_biz.merge(review_df, on='business_id', how='inner')"
   ]
  },
  {
   "cell_type": "code",
   "execution_count": 8,
   "metadata": {},
   "outputs": [
    {
     "data": {
      "text/html": [
       "<div>\n",
       "<style scoped>\n",
       "    .dataframe tbody tr th:only-of-type {\n",
       "        vertical-align: middle;\n",
       "    }\n",
       "\n",
       "    .dataframe tbody tr th {\n",
       "        vertical-align: top;\n",
       "    }\n",
       "\n",
       "    .dataframe thead th {\n",
       "        text-align: right;\n",
       "    }\n",
       "</style>\n",
       "<table border=\"1\" class=\"dataframe\">\n",
       "  <thead>\n",
       "    <tr style=\"text-align: right;\">\n",
       "      <th></th>\n",
       "      <th>address</th>\n",
       "      <th>attributes</th>\n",
       "      <th>business_id</th>\n",
       "      <th>categories</th>\n",
       "      <th>city</th>\n",
       "      <th>hours</th>\n",
       "      <th>is_open</th>\n",
       "      <th>latitude</th>\n",
       "      <th>longitude</th>\n",
       "      <th>name</th>\n",
       "      <th>...</th>\n",
       "      <th>stars_x</th>\n",
       "      <th>state</th>\n",
       "      <th>cool</th>\n",
       "      <th>date</th>\n",
       "      <th>funny</th>\n",
       "      <th>review_id</th>\n",
       "      <th>stars_y</th>\n",
       "      <th>text</th>\n",
       "      <th>useful</th>\n",
       "      <th>user_id</th>\n",
       "    </tr>\n",
       "  </thead>\n",
       "  <tbody>\n",
       "    <tr>\n",
       "      <th>0</th>\n",
       "      <td>30 Eglinton Avenue W</td>\n",
       "      <td>{'RestaurantsReservations': 'True', 'GoodForMe...</td>\n",
       "      <td>QXAEGFB4oINsVuTFxEYKFQ</td>\n",
       "      <td>Specialty Food, Restaurants, Dim Sum, Imported...</td>\n",
       "      <td>Mississauga</td>\n",
       "      <td>{'Monday': '9:0-0:0', 'Tuesday': '9:0-0:0', 'W...</td>\n",
       "      <td>1</td>\n",
       "      <td>43.605499</td>\n",
       "      <td>-79.652289</td>\n",
       "      <td>Emerald Chinese Restaurant</td>\n",
       "      <td>...</td>\n",
       "      <td>2.5</td>\n",
       "      <td>ON</td>\n",
       "      <td>0</td>\n",
       "      <td>2017-01-27 21:54:30</td>\n",
       "      <td>2</td>\n",
       "      <td>6W0MQHmasK0IsaoDo4bmkw</td>\n",
       "      <td>3.0</td>\n",
       "      <td>My girlfriend and I went for dinner at Emerald...</td>\n",
       "      <td>3</td>\n",
       "      <td>2K62MJ4CJ19L8Tp5pRfjfQ</td>\n",
       "    </tr>\n",
       "    <tr>\n",
       "      <th>1</th>\n",
       "      <td>30 Eglinton Avenue W</td>\n",
       "      <td>{'RestaurantsReservations': 'True', 'GoodForMe...</td>\n",
       "      <td>QXAEGFB4oINsVuTFxEYKFQ</td>\n",
       "      <td>Specialty Food, Restaurants, Dim Sum, Imported...</td>\n",
       "      <td>Mississauga</td>\n",
       "      <td>{'Monday': '9:0-0:0', 'Tuesday': '9:0-0:0', 'W...</td>\n",
       "      <td>1</td>\n",
       "      <td>43.605499</td>\n",
       "      <td>-79.652289</td>\n",
       "      <td>Emerald Chinese Restaurant</td>\n",
       "      <td>...</td>\n",
       "      <td>2.5</td>\n",
       "      <td>ON</td>\n",
       "      <td>0</td>\n",
       "      <td>2013-06-24 23:11:30</td>\n",
       "      <td>0</td>\n",
       "      <td>BeeBfUxvzD4qNX4HxrgA5g</td>\n",
       "      <td>3.0</td>\n",
       "      <td>We've always been there on a Sunday so we were...</td>\n",
       "      <td>0</td>\n",
       "      <td>A0kENtCCoVT3m7T35zb2Vg</td>\n",
       "    </tr>\n",
       "    <tr>\n",
       "      <th>2</th>\n",
       "      <td>30 Eglinton Avenue W</td>\n",
       "      <td>{'RestaurantsReservations': 'True', 'GoodForMe...</td>\n",
       "      <td>QXAEGFB4oINsVuTFxEYKFQ</td>\n",
       "      <td>Specialty Food, Restaurants, Dim Sum, Imported...</td>\n",
       "      <td>Mississauga</td>\n",
       "      <td>{'Monday': '9:0-0:0', 'Tuesday': '9:0-0:0', 'W...</td>\n",
       "      <td>1</td>\n",
       "      <td>43.605499</td>\n",
       "      <td>-79.652289</td>\n",
       "      <td>Emerald Chinese Restaurant</td>\n",
       "      <td>...</td>\n",
       "      <td>2.5</td>\n",
       "      <td>ON</td>\n",
       "      <td>0</td>\n",
       "      <td>2016-01-04 12:59:22</td>\n",
       "      <td>0</td>\n",
       "      <td>A1D2kUnZ0HTroFreAheNSg</td>\n",
       "      <td>3.0</td>\n",
       "      <td>***No automatic doors, not baby friendly!*** I...</td>\n",
       "      <td>0</td>\n",
       "      <td>SuOLY03LW5ZcnynKhbTydA</td>\n",
       "    </tr>\n",
       "    <tr>\n",
       "      <th>3</th>\n",
       "      <td>30 Eglinton Avenue W</td>\n",
       "      <td>{'RestaurantsReservations': 'True', 'GoodForMe...</td>\n",
       "      <td>QXAEGFB4oINsVuTFxEYKFQ</td>\n",
       "      <td>Specialty Food, Restaurants, Dim Sum, Imported...</td>\n",
       "      <td>Mississauga</td>\n",
       "      <td>{'Monday': '9:0-0:0', 'Tuesday': '9:0-0:0', 'W...</td>\n",
       "      <td>1</td>\n",
       "      <td>43.605499</td>\n",
       "      <td>-79.652289</td>\n",
       "      <td>Emerald Chinese Restaurant</td>\n",
       "      <td>...</td>\n",
       "      <td>2.5</td>\n",
       "      <td>ON</td>\n",
       "      <td>0</td>\n",
       "      <td>2014-05-09 02:38:43</td>\n",
       "      <td>0</td>\n",
       "      <td>2pf45Stf-pNew-xgTababQ</td>\n",
       "      <td>1.0</td>\n",
       "      <td>Horrible service,\\nI went there tonight with m...</td>\n",
       "      <td>1</td>\n",
       "      <td>lymyUak6KNcNKoDbK87MiQ</td>\n",
       "    </tr>\n",
       "    <tr>\n",
       "      <th>4</th>\n",
       "      <td>30 Eglinton Avenue W</td>\n",
       "      <td>{'RestaurantsReservations': 'True', 'GoodForMe...</td>\n",
       "      <td>QXAEGFB4oINsVuTFxEYKFQ</td>\n",
       "      <td>Specialty Food, Restaurants, Dim Sum, Imported...</td>\n",
       "      <td>Mississauga</td>\n",
       "      <td>{'Monday': '9:0-0:0', 'Tuesday': '9:0-0:0', 'W...</td>\n",
       "      <td>1</td>\n",
       "      <td>43.605499</td>\n",
       "      <td>-79.652289</td>\n",
       "      <td>Emerald Chinese Restaurant</td>\n",
       "      <td>...</td>\n",
       "      <td>2.5</td>\n",
       "      <td>ON</td>\n",
       "      <td>2</td>\n",
       "      <td>2011-03-21 14:39:55</td>\n",
       "      <td>1</td>\n",
       "      <td>RHhlmL07evgAdPaXQV8Omg</td>\n",
       "      <td>4.0</td>\n",
       "      <td>One of the gauges of a good Chinese restaurant...</td>\n",
       "      <td>2</td>\n",
       "      <td>6vU0I5XgCv9OQHZ76rV6qw</td>\n",
       "    </tr>\n",
       "  </tbody>\n",
       "</table>\n",
       "<p>5 rows × 22 columns</p>\n",
       "</div>"
      ],
      "text/plain": [
       "                address                                         attributes  \\\n",
       "0  30 Eglinton Avenue W  {'RestaurantsReservations': 'True', 'GoodForMe...   \n",
       "1  30 Eglinton Avenue W  {'RestaurantsReservations': 'True', 'GoodForMe...   \n",
       "2  30 Eglinton Avenue W  {'RestaurantsReservations': 'True', 'GoodForMe...   \n",
       "3  30 Eglinton Avenue W  {'RestaurantsReservations': 'True', 'GoodForMe...   \n",
       "4  30 Eglinton Avenue W  {'RestaurantsReservations': 'True', 'GoodForMe...   \n",
       "\n",
       "              business_id                                         categories  \\\n",
       "0  QXAEGFB4oINsVuTFxEYKFQ  Specialty Food, Restaurants, Dim Sum, Imported...   \n",
       "1  QXAEGFB4oINsVuTFxEYKFQ  Specialty Food, Restaurants, Dim Sum, Imported...   \n",
       "2  QXAEGFB4oINsVuTFxEYKFQ  Specialty Food, Restaurants, Dim Sum, Imported...   \n",
       "3  QXAEGFB4oINsVuTFxEYKFQ  Specialty Food, Restaurants, Dim Sum, Imported...   \n",
       "4  QXAEGFB4oINsVuTFxEYKFQ  Specialty Food, Restaurants, Dim Sum, Imported...   \n",
       "\n",
       "          city                                              hours  is_open  \\\n",
       "0  Mississauga  {'Monday': '9:0-0:0', 'Tuesday': '9:0-0:0', 'W...        1   \n",
       "1  Mississauga  {'Monday': '9:0-0:0', 'Tuesday': '9:0-0:0', 'W...        1   \n",
       "2  Mississauga  {'Monday': '9:0-0:0', 'Tuesday': '9:0-0:0', 'W...        1   \n",
       "3  Mississauga  {'Monday': '9:0-0:0', 'Tuesday': '9:0-0:0', 'W...        1   \n",
       "4  Mississauga  {'Monday': '9:0-0:0', 'Tuesday': '9:0-0:0', 'W...        1   \n",
       "\n",
       "    latitude  longitude                        name           ...            \\\n",
       "0  43.605499 -79.652289  Emerald Chinese Restaurant           ...             \n",
       "1  43.605499 -79.652289  Emerald Chinese Restaurant           ...             \n",
       "2  43.605499 -79.652289  Emerald Chinese Restaurant           ...             \n",
       "3  43.605499 -79.652289  Emerald Chinese Restaurant           ...             \n",
       "4  43.605499 -79.652289  Emerald Chinese Restaurant           ...             \n",
       "\n",
       "  stars_x  state  cool                 date  funny               review_id  \\\n",
       "0     2.5     ON     0  2017-01-27 21:54:30      2  6W0MQHmasK0IsaoDo4bmkw   \n",
       "1     2.5     ON     0  2013-06-24 23:11:30      0  BeeBfUxvzD4qNX4HxrgA5g   \n",
       "2     2.5     ON     0  2016-01-04 12:59:22      0  A1D2kUnZ0HTroFreAheNSg   \n",
       "3     2.5     ON     0  2014-05-09 02:38:43      0  2pf45Stf-pNew-xgTababQ   \n",
       "4     2.5     ON     2  2011-03-21 14:39:55      1  RHhlmL07evgAdPaXQV8Omg   \n",
       "\n",
       "   stars_y                                               text  useful  \\\n",
       "0      3.0  My girlfriend and I went for dinner at Emerald...       3   \n",
       "1      3.0  We've always been there on a Sunday so we were...       0   \n",
       "2      3.0  ***No automatic doors, not baby friendly!*** I...       0   \n",
       "3      1.0  Horrible service,\\nI went there tonight with m...       1   \n",
       "4      4.0  One of the gauges of a good Chinese restaurant...       2   \n",
       "\n",
       "                  user_id  \n",
       "0  2K62MJ4CJ19L8Tp5pRfjfQ  \n",
       "1  A0kENtCCoVT3m7T35zb2Vg  \n",
       "2  SuOLY03LW5ZcnynKhbTydA  \n",
       "3  lymyUak6KNcNKoDbK87MiQ  \n",
       "4  6vU0I5XgCv9OQHZ76rV6qw  \n",
       "\n",
       "[5 rows x 22 columns]"
      ]
     },
     "execution_count": 8,
     "metadata": {},
     "output_type": "execute_result"
    }
   ],
   "source": [
    "twobiz_reviews.head()"
   ]
  },
  {
   "cell_type": "code",
   "execution_count": 9,
   "metadata": {},
   "outputs": [
    {
     "data": {
      "text/plain": [
       "(66341, 22)"
      ]
     },
     "execution_count": 9,
     "metadata": {},
     "output_type": "execute_result"
    }
   ],
   "source": [
    "twobiz_reviews.shape"
   ]
  },
  {
   "cell_type": "code",
   "execution_count": 10,
   "metadata": {},
   "outputs": [],
   "source": [
    "# pkl 格式的压缩率较高，生成的文件可以很小\n",
    "# twobiz_reviews.to_csv('data/yelp_dataset/twobiz_reviews.csv', index=False)\n",
    "twobiz_reviews.to_pickle('data/yelp_dataset/twobiz_reviews.pkl')"
   ]
  },
  {
   "cell_type": "code",
   "execution_count": 11,
   "metadata": {},
   "outputs": [],
   "source": [
    "# twobiz_reviews = pd.read_csv('data/yelp_dataset/twobiz_reviews.csv')\n",
    "twobiz_reviews = pd.read_pickle('data/yelp_dataset/twobiz_reviews.pkl')"
   ]
  },
  {
   "cell_type": "code",
   "execution_count": 12,
   "metadata": {},
   "outputs": [
    {
     "data": {
      "text/html": [
       "<div>\n",
       "<style scoped>\n",
       "    .dataframe tbody tr th:only-of-type {\n",
       "        vertical-align: middle;\n",
       "    }\n",
       "\n",
       "    .dataframe tbody tr th {\n",
       "        vertical-align: top;\n",
       "    }\n",
       "\n",
       "    .dataframe thead th {\n",
       "        text-align: right;\n",
       "    }\n",
       "</style>\n",
       "<table border=\"1\" class=\"dataframe\">\n",
       "  <thead>\n",
       "    <tr style=\"text-align: right;\">\n",
       "      <th></th>\n",
       "      <th>address</th>\n",
       "      <th>attributes</th>\n",
       "      <th>business_id</th>\n",
       "      <th>categories</th>\n",
       "      <th>city</th>\n",
       "      <th>hours</th>\n",
       "      <th>is_open</th>\n",
       "      <th>latitude</th>\n",
       "      <th>longitude</th>\n",
       "      <th>name</th>\n",
       "      <th>...</th>\n",
       "      <th>stars_x</th>\n",
       "      <th>state</th>\n",
       "      <th>cool</th>\n",
       "      <th>date</th>\n",
       "      <th>funny</th>\n",
       "      <th>review_id</th>\n",
       "      <th>stars_y</th>\n",
       "      <th>text</th>\n",
       "      <th>useful</th>\n",
       "      <th>user_id</th>\n",
       "    </tr>\n",
       "  </thead>\n",
       "  <tbody>\n",
       "    <tr>\n",
       "      <th>0</th>\n",
       "      <td>30 Eglinton Avenue W</td>\n",
       "      <td>{'RestaurantsReservations': 'True', 'GoodForMe...</td>\n",
       "      <td>QXAEGFB4oINsVuTFxEYKFQ</td>\n",
       "      <td>Specialty Food, Restaurants, Dim Sum, Imported...</td>\n",
       "      <td>Mississauga</td>\n",
       "      <td>{'Monday': '9:0-0:0', 'Tuesday': '9:0-0:0', 'W...</td>\n",
       "      <td>1</td>\n",
       "      <td>43.605499</td>\n",
       "      <td>-79.652289</td>\n",
       "      <td>Emerald Chinese Restaurant</td>\n",
       "      <td>...</td>\n",
       "      <td>2.5</td>\n",
       "      <td>ON</td>\n",
       "      <td>0</td>\n",
       "      <td>2017-01-27 21:54:30</td>\n",
       "      <td>2</td>\n",
       "      <td>6W0MQHmasK0IsaoDo4bmkw</td>\n",
       "      <td>3.0</td>\n",
       "      <td>My girlfriend and I went for dinner at Emerald...</td>\n",
       "      <td>3</td>\n",
       "      <td>2K62MJ4CJ19L8Tp5pRfjfQ</td>\n",
       "    </tr>\n",
       "    <tr>\n",
       "      <th>1</th>\n",
       "      <td>30 Eglinton Avenue W</td>\n",
       "      <td>{'RestaurantsReservations': 'True', 'GoodForMe...</td>\n",
       "      <td>QXAEGFB4oINsVuTFxEYKFQ</td>\n",
       "      <td>Specialty Food, Restaurants, Dim Sum, Imported...</td>\n",
       "      <td>Mississauga</td>\n",
       "      <td>{'Monday': '9:0-0:0', 'Tuesday': '9:0-0:0', 'W...</td>\n",
       "      <td>1</td>\n",
       "      <td>43.605499</td>\n",
       "      <td>-79.652289</td>\n",
       "      <td>Emerald Chinese Restaurant</td>\n",
       "      <td>...</td>\n",
       "      <td>2.5</td>\n",
       "      <td>ON</td>\n",
       "      <td>0</td>\n",
       "      <td>2013-06-24 23:11:30</td>\n",
       "      <td>0</td>\n",
       "      <td>BeeBfUxvzD4qNX4HxrgA5g</td>\n",
       "      <td>3.0</td>\n",
       "      <td>We've always been there on a Sunday so we were...</td>\n",
       "      <td>0</td>\n",
       "      <td>A0kENtCCoVT3m7T35zb2Vg</td>\n",
       "    </tr>\n",
       "    <tr>\n",
       "      <th>2</th>\n",
       "      <td>30 Eglinton Avenue W</td>\n",
       "      <td>{'RestaurantsReservations': 'True', 'GoodForMe...</td>\n",
       "      <td>QXAEGFB4oINsVuTFxEYKFQ</td>\n",
       "      <td>Specialty Food, Restaurants, Dim Sum, Imported...</td>\n",
       "      <td>Mississauga</td>\n",
       "      <td>{'Monday': '9:0-0:0', 'Tuesday': '9:0-0:0', 'W...</td>\n",
       "      <td>1</td>\n",
       "      <td>43.605499</td>\n",
       "      <td>-79.652289</td>\n",
       "      <td>Emerald Chinese Restaurant</td>\n",
       "      <td>...</td>\n",
       "      <td>2.5</td>\n",
       "      <td>ON</td>\n",
       "      <td>0</td>\n",
       "      <td>2016-01-04 12:59:22</td>\n",
       "      <td>0</td>\n",
       "      <td>A1D2kUnZ0HTroFreAheNSg</td>\n",
       "      <td>3.0</td>\n",
       "      <td>***No automatic doors, not baby friendly!*** I...</td>\n",
       "      <td>0</td>\n",
       "      <td>SuOLY03LW5ZcnynKhbTydA</td>\n",
       "    </tr>\n",
       "    <tr>\n",
       "      <th>3</th>\n",
       "      <td>30 Eglinton Avenue W</td>\n",
       "      <td>{'RestaurantsReservations': 'True', 'GoodForMe...</td>\n",
       "      <td>QXAEGFB4oINsVuTFxEYKFQ</td>\n",
       "      <td>Specialty Food, Restaurants, Dim Sum, Imported...</td>\n",
       "      <td>Mississauga</td>\n",
       "      <td>{'Monday': '9:0-0:0', 'Tuesday': '9:0-0:0', 'W...</td>\n",
       "      <td>1</td>\n",
       "      <td>43.605499</td>\n",
       "      <td>-79.652289</td>\n",
       "      <td>Emerald Chinese Restaurant</td>\n",
       "      <td>...</td>\n",
       "      <td>2.5</td>\n",
       "      <td>ON</td>\n",
       "      <td>0</td>\n",
       "      <td>2014-05-09 02:38:43</td>\n",
       "      <td>0</td>\n",
       "      <td>2pf45Stf-pNew-xgTababQ</td>\n",
       "      <td>1.0</td>\n",
       "      <td>Horrible service,\\nI went there tonight with m...</td>\n",
       "      <td>1</td>\n",
       "      <td>lymyUak6KNcNKoDbK87MiQ</td>\n",
       "    </tr>\n",
       "    <tr>\n",
       "      <th>4</th>\n",
       "      <td>30 Eglinton Avenue W</td>\n",
       "      <td>{'RestaurantsReservations': 'True', 'GoodForMe...</td>\n",
       "      <td>QXAEGFB4oINsVuTFxEYKFQ</td>\n",
       "      <td>Specialty Food, Restaurants, Dim Sum, Imported...</td>\n",
       "      <td>Mississauga</td>\n",
       "      <td>{'Monday': '9:0-0:0', 'Tuesday': '9:0-0:0', 'W...</td>\n",
       "      <td>1</td>\n",
       "      <td>43.605499</td>\n",
       "      <td>-79.652289</td>\n",
       "      <td>Emerald Chinese Restaurant</td>\n",
       "      <td>...</td>\n",
       "      <td>2.5</td>\n",
       "      <td>ON</td>\n",
       "      <td>2</td>\n",
       "      <td>2011-03-21 14:39:55</td>\n",
       "      <td>1</td>\n",
       "      <td>RHhlmL07evgAdPaXQV8Omg</td>\n",
       "      <td>4.0</td>\n",
       "      <td>One of the gauges of a good Chinese restaurant...</td>\n",
       "      <td>2</td>\n",
       "      <td>6vU0I5XgCv9OQHZ76rV6qw</td>\n",
       "    </tr>\n",
       "  </tbody>\n",
       "</table>\n",
       "<p>5 rows × 22 columns</p>\n",
       "</div>"
      ],
      "text/plain": [
       "                address                                         attributes  \\\n",
       "0  30 Eglinton Avenue W  {'RestaurantsReservations': 'True', 'GoodForMe...   \n",
       "1  30 Eglinton Avenue W  {'RestaurantsReservations': 'True', 'GoodForMe...   \n",
       "2  30 Eglinton Avenue W  {'RestaurantsReservations': 'True', 'GoodForMe...   \n",
       "3  30 Eglinton Avenue W  {'RestaurantsReservations': 'True', 'GoodForMe...   \n",
       "4  30 Eglinton Avenue W  {'RestaurantsReservations': 'True', 'GoodForMe...   \n",
       "\n",
       "              business_id                                         categories  \\\n",
       "0  QXAEGFB4oINsVuTFxEYKFQ  Specialty Food, Restaurants, Dim Sum, Imported...   \n",
       "1  QXAEGFB4oINsVuTFxEYKFQ  Specialty Food, Restaurants, Dim Sum, Imported...   \n",
       "2  QXAEGFB4oINsVuTFxEYKFQ  Specialty Food, Restaurants, Dim Sum, Imported...   \n",
       "3  QXAEGFB4oINsVuTFxEYKFQ  Specialty Food, Restaurants, Dim Sum, Imported...   \n",
       "4  QXAEGFB4oINsVuTFxEYKFQ  Specialty Food, Restaurants, Dim Sum, Imported...   \n",
       "\n",
       "          city                                              hours  is_open  \\\n",
       "0  Mississauga  {'Monday': '9:0-0:0', 'Tuesday': '9:0-0:0', 'W...        1   \n",
       "1  Mississauga  {'Monday': '9:0-0:0', 'Tuesday': '9:0-0:0', 'W...        1   \n",
       "2  Mississauga  {'Monday': '9:0-0:0', 'Tuesday': '9:0-0:0', 'W...        1   \n",
       "3  Mississauga  {'Monday': '9:0-0:0', 'Tuesday': '9:0-0:0', 'W...        1   \n",
       "4  Mississauga  {'Monday': '9:0-0:0', 'Tuesday': '9:0-0:0', 'W...        1   \n",
       "\n",
       "    latitude  longitude                        name           ...            \\\n",
       "0  43.605499 -79.652289  Emerald Chinese Restaurant           ...             \n",
       "1  43.605499 -79.652289  Emerald Chinese Restaurant           ...             \n",
       "2  43.605499 -79.652289  Emerald Chinese Restaurant           ...             \n",
       "3  43.605499 -79.652289  Emerald Chinese Restaurant           ...             \n",
       "4  43.605499 -79.652289  Emerald Chinese Restaurant           ...             \n",
       "\n",
       "  stars_x  state  cool                 date  funny               review_id  \\\n",
       "0     2.5     ON     0  2017-01-27 21:54:30      2  6W0MQHmasK0IsaoDo4bmkw   \n",
       "1     2.5     ON     0  2013-06-24 23:11:30      0  BeeBfUxvzD4qNX4HxrgA5g   \n",
       "2     2.5     ON     0  2016-01-04 12:59:22      0  A1D2kUnZ0HTroFreAheNSg   \n",
       "3     2.5     ON     0  2014-05-09 02:38:43      0  2pf45Stf-pNew-xgTababQ   \n",
       "4     2.5     ON     2  2011-03-21 14:39:55      1  RHhlmL07evgAdPaXQV8Omg   \n",
       "\n",
       "   stars_y                                               text  useful  \\\n",
       "0      3.0  My girlfriend and I went for dinner at Emerald...       3   \n",
       "1      3.0  We've always been there on a Sunday so we were...       0   \n",
       "2      3.0  ***No automatic doors, not baby friendly!*** I...       0   \n",
       "3      1.0  Horrible service,\\nI went there tonight with m...       1   \n",
       "4      4.0  One of the gauges of a good Chinese restaurant...       2   \n",
       "\n",
       "                  user_id  \n",
       "0  2K62MJ4CJ19L8Tp5pRfjfQ  \n",
       "1  A0kENtCCoVT3m7T35zb2Vg  \n",
       "2  SuOLY03LW5ZcnynKhbTydA  \n",
       "3  lymyUak6KNcNKoDbK87MiQ  \n",
       "4  6vU0I5XgCv9OQHZ76rV6qw  \n",
       "\n",
       "[5 rows x 22 columns]"
      ]
     },
     "execution_count": 12,
     "metadata": {},
     "output_type": "execute_result"
    }
   ],
   "source": [
    "twobiz_reviews.head()"
   ]
  },
  {
   "cell_type": "code",
   "execution_count": 13,
   "metadata": {},
   "outputs": [],
   "source": [
    "# Trim away the features we won't use\n",
    "# 去除我们不需要的特征\n",
    "twobiz_reviews = twobiz_reviews[['business_id',\n",
    "                                 'name',\n",
    "                                 'stars_y',\n",
    "                                 'text',\n",
    "                                 'categories']]"
   ]
  },
  {
   "cell_type": "code",
   "execution_count": 14,
   "metadata": {},
   "outputs": [],
   "source": [
    "# Create the target column--True for Nightlife businesses, and False otherwise\n",
    "# 创建目标列——夜店类型的商家为True，否则为False\n",
    "# twobiz_reviews['target'] = twobiz_reviews.apply(lambda x: 'Nightlife' in x['categories'],\n",
    "#                                                 axis=1)\n",
    "twobiz_reviews['target'] = twobiz_reviews['categories'].str.contains('Nightlife')"
   ]
  },
  {
   "cell_type": "markdown",
   "metadata": {},
   "source": [
    "## 例4-2 创建平衡的分类数据集"
   ]
  },
  {
   "cell_type": "code",
   "execution_count": 15,
   "metadata": {},
   "outputs": [],
   "source": [
    "## Now pull out each class of reviews separately, \n",
    "## so we can create class-balanced samples for training\n",
    "# 创建一个类别平衡的子样本，供练习使用\n",
    "nightlife = twobiz_reviews[twobiz_reviews.apply(lambda x: 'Nightlife' in x['categories'], axis=1)]\n",
    "restaurants = twobiz_reviews[twobiz_reviews.apply(lambda x: 'Restaurants' in x['categories'], axis=1)]"
   ]
  },
  {
   "cell_type": "code",
   "execution_count": 16,
   "metadata": {},
   "outputs": [
    {
     "data": {
      "text/plain": [
       "(18350, 6)"
      ]
     },
     "execution_count": 16,
     "metadata": {},
     "output_type": "execute_result"
    }
   ],
   "source": [
    "nightlife.shape"
   ]
  },
  {
   "cell_type": "code",
   "execution_count": 17,
   "metadata": {},
   "outputs": [
    {
     "data": {
      "text/plain": [
       "(63667, 6)"
      ]
     },
     "execution_count": 17,
     "metadata": {},
     "output_type": "execute_result"
    }
   ],
   "source": [
    "restaurants.shape"
   ]
  },
  {
   "cell_type": "code",
   "execution_count": 18,
   "metadata": {},
   "outputs": [],
   "source": [
    "nightlife_subset = nightlife.sample(frac=1, random_state=123)\n",
    "restaurant_subset = restaurants.sample(frac=0.289, random_state=123)"
   ]
  },
  {
   "cell_type": "code",
   "execution_count": 19,
   "metadata": {},
   "outputs": [
    {
     "data": {
      "text/plain": [
       "(18350, 6)"
      ]
     },
     "execution_count": 19,
     "metadata": {},
     "output_type": "execute_result"
    }
   ],
   "source": [
    "nightlife_subset.shape"
   ]
  },
  {
   "cell_type": "code",
   "execution_count": 20,
   "metadata": {},
   "outputs": [
    {
     "data": {
      "text/plain": [
       "(18400, 6)"
      ]
     },
     "execution_count": 20,
     "metadata": {},
     "output_type": "execute_result"
    }
   ],
   "source": [
    "restaurant_subset.shape"
   ]
  },
  {
   "cell_type": "code",
   "execution_count": 21,
   "metadata": {},
   "outputs": [],
   "source": [
    "nightlife_subset.to_pickle('data/yelp_dataset/nightlife_subset.pkl')\n",
    "restaurant_subset.to_pickle('data/yelp_dataset/restaurant_subset.pkl')"
   ]
  },
  {
   "cell_type": "code",
   "execution_count": 22,
   "metadata": {},
   "outputs": [],
   "source": [
    "nightlife_subset = pd.read_pickle('data/yelp_dataset/nightlife_subset.pkl')\n",
    "restaurant_subset = pd.read_pickle('data/yelp_dataset/restaurant_subset.pkl')"
   ]
  },
  {
   "cell_type": "code",
   "execution_count": 23,
   "metadata": {},
   "outputs": [],
   "source": [
    "combined = pd.concat([nightlife_subset, restaurant_subset])"
   ]
  },
  {
   "cell_type": "code",
   "execution_count": 24,
   "metadata": {},
   "outputs": [],
   "source": [
    "combined['target'] = combined.apply(lambda x: 'Nightlife' in x['categories'],\n",
    "                                    axis=1)"
   ]
  },
  {
   "cell_type": "code",
   "execution_count": 25,
   "metadata": {},
   "outputs": [
    {
     "data": {
      "text/html": [
       "<div>\n",
       "<style scoped>\n",
       "    .dataframe tbody tr th:only-of-type {\n",
       "        vertical-align: middle;\n",
       "    }\n",
       "\n",
       "    .dataframe tbody tr th {\n",
       "        vertical-align: top;\n",
       "    }\n",
       "\n",
       "    .dataframe thead th {\n",
       "        text-align: right;\n",
       "    }\n",
       "</style>\n",
       "<table border=\"1\" class=\"dataframe\">\n",
       "  <thead>\n",
       "    <tr style=\"text-align: right;\">\n",
       "      <th></th>\n",
       "      <th>business_id</th>\n",
       "      <th>name</th>\n",
       "      <th>stars_y</th>\n",
       "      <th>text</th>\n",
       "      <th>categories</th>\n",
       "      <th>target</th>\n",
       "    </tr>\n",
       "  </thead>\n",
       "  <tbody>\n",
       "    <tr>\n",
       "      <th>723</th>\n",
       "      <td>v7ZFEEqJBg_r8NCwHRP_2A</td>\n",
       "      <td>Bistro Divino</td>\n",
       "      <td>5.0</td>\n",
       "      <td>This is a lovely little place with fabulous fo...</td>\n",
       "      <td>Food, Pizza, Wine Bars, Bars, Restaurants, Nig...</td>\n",
       "      <td>True</td>\n",
       "    </tr>\n",
       "    <tr>\n",
       "      <th>55824</th>\n",
       "      <td>3b14ebd1k9y7VJbp5hC0gg</td>\n",
       "      <td>Beaudevin</td>\n",
       "      <td>5.0</td>\n",
       "      <td>While scoping out all the cafeteria- line styl...</td>\n",
       "      <td>Wine Bars, Sandwiches, Arts &amp; Entertainment, N...</td>\n",
       "      <td>True</td>\n",
       "    </tr>\n",
       "    <tr>\n",
       "      <th>9156</th>\n",
       "      <td>ALgH4S65heUffUjcBiNJ0Q</td>\n",
       "      <td>West Addison</td>\n",
       "      <td>4.0</td>\n",
       "      <td>Came here for St. Patty's Day with a group of ...</td>\n",
       "      <td>Sports Bars, Nightlife, Restaurants, Bars, Ame...</td>\n",
       "      <td>True</td>\n",
       "    </tr>\n",
       "    <tr>\n",
       "      <th>64825</th>\n",
       "      <td>w1c_Uy60LSDiMsSjAsEqkw</td>\n",
       "      <td>Rumfish Grille</td>\n",
       "      <td>1.0</td>\n",
       "      <td>The central business of this establishment is ...</td>\n",
       "      <td>Steakhouses, Nightlife, Bars, Restaurants, Ame...</td>\n",
       "      <td>True</td>\n",
       "    </tr>\n",
       "    <tr>\n",
       "      <th>39406</th>\n",
       "      <td>lv5Bnqlt93NnvNJ2oNcQ8Q</td>\n",
       "      <td>Los Cucos Mexican Cafe</td>\n",
       "      <td>5.0</td>\n",
       "      <td>Wow muy buena comida y excelente servicio grac...</td>\n",
       "      <td>Caterers, Tex-Mex, Restaurants, Nightlife, Mex...</td>\n",
       "      <td>True</td>\n",
       "    </tr>\n",
       "    <tr>\n",
       "      <th>23120</th>\n",
       "      <td>uuGL8diLlHfeUeFuod3F-w</td>\n",
       "      <td>Tom's Urban</td>\n",
       "      <td>5.0</td>\n",
       "      <td>I came in for a quick lunch with my girlfriend...</td>\n",
       "      <td>Gastropubs, Nightlife, Restaurants, American (...</td>\n",
       "      <td>True</td>\n",
       "    </tr>\n",
       "    <tr>\n",
       "      <th>62981</th>\n",
       "      <td>mz9ltimeAIy2c2qf5ctljw</td>\n",
       "      <td>Cirque du Soleil - The Beatles LOVE</td>\n",
       "      <td>5.0</td>\n",
       "      <td>I think the bottom line on this show is that, ...</td>\n",
       "      <td>Arts &amp; Entertainment, Music Venues, Nightlife,...</td>\n",
       "      <td>True</td>\n",
       "    </tr>\n",
       "    <tr>\n",
       "      <th>48521</th>\n",
       "      <td>sk0stgY4NDJYOX1MbNJ3Pg</td>\n",
       "      <td>T-Mobile Arena</td>\n",
       "      <td>5.0</td>\n",
       "      <td>Loooove the arena. 4.5 stars but bumped it up ...</td>\n",
       "      <td>Music Venues, Performing Arts, Nightlife, Arts...</td>\n",
       "      <td>True</td>\n",
       "    </tr>\n",
       "    <tr>\n",
       "      <th>11963</th>\n",
       "      <td>xKL4JhiFn75HyTqW8tfR6w</td>\n",
       "      <td>The Improv Comedy Club</td>\n",
       "      <td>3.0</td>\n",
       "      <td>You are at the mercy of who is the comedian at...</td>\n",
       "      <td>Nightlife, Comedy Clubs</td>\n",
       "      <td>True</td>\n",
       "    </tr>\n",
       "    <tr>\n",
       "      <th>33933</th>\n",
       "      <td>1qwkbN3wu3AGDxMTXVz2gA</td>\n",
       "      <td>Topgolf</td>\n",
       "      <td>5.0</td>\n",
       "      <td>Not a place I would go for dinner, but they ha...</td>\n",
       "      <td>Event Planning &amp; Services, Party &amp; Event Plann...</td>\n",
       "      <td>True</td>\n",
       "    </tr>\n",
       "    <tr>\n",
       "      <th>5993</th>\n",
       "      <td>VbqtbvvtNOe-YKA61-fSNA</td>\n",
       "      <td>Armadillo Grill</td>\n",
       "      <td>5.0</td>\n",
       "      <td>I have been coming here for two years and the ...</td>\n",
       "      <td>Restaurants, Bars, Nightlife, Sports Bars, Ame...</td>\n",
       "      <td>True</td>\n",
       "    </tr>\n",
       "    <tr>\n",
       "      <th>20749</th>\n",
       "      <td>XXW_OFaYQkkGOGniujZFHg</td>\n",
       "      <td>The Peppermill Restaurant &amp; Fireside Lounge</td>\n",
       "      <td>4.0</td>\n",
       "      <td>I know there is another review for this place,...</td>\n",
       "      <td>Nightlife, Lounges, Restaurants, Bars, America...</td>\n",
       "      <td>True</td>\n",
       "    </tr>\n",
       "    <tr>\n",
       "      <th>1962</th>\n",
       "      <td>yGMCl0vYigshkXiZFIDTNw</td>\n",
       "      <td>Mimi's Cafe</td>\n",
       "      <td>2.0</td>\n",
       "      <td>Service was slow, food was forgettable. They a...</td>\n",
       "      <td>Nightlife, Restaurants, American (Traditional)...</td>\n",
       "      <td>True</td>\n",
       "    </tr>\n",
       "    <tr>\n",
       "      <th>45659</th>\n",
       "      <td>JzB7NITHQ7gVHGVZ1ntgIQ</td>\n",
       "      <td>Primanti Bros</td>\n",
       "      <td>4.0</td>\n",
       "      <td>Pittsburgh Staples for $1000. \\n\\nP-Bro's, as ...</td>\n",
       "      <td>Restaurants, Sports Bars, Nightlife, Sandwiche...</td>\n",
       "      <td>True</td>\n",
       "    </tr>\n",
       "    <tr>\n",
       "      <th>33160</th>\n",
       "      <td>pH0BLkL4cbxKzu471VZnuA</td>\n",
       "      <td>SUSHISAMBA - Las Vegas</td>\n",
       "      <td>5.0</td>\n",
       "      <td>Must haves: rib eye steak w shitake mushrooms ...</td>\n",
       "      <td>Bars, Dim Sum, Japanese, Asian Fusion, Restaur...</td>\n",
       "      <td>True</td>\n",
       "    </tr>\n",
       "    <tr>\n",
       "      <th>11909</th>\n",
       "      <td>X2lgI8CuVEsH5UDs14rMhw</td>\n",
       "      <td>Andys Wine Bar</td>\n",
       "      <td>2.0</td>\n",
       "      <td>I used to stop in over a year ago after the ba...</td>\n",
       "      <td>Bars, Nightlife, Restaurants, Jazz &amp; Blues, Co...</td>\n",
       "      <td>True</td>\n",
       "    </tr>\n",
       "    <tr>\n",
       "      <th>20359</th>\n",
       "      <td>XXW_OFaYQkkGOGniujZFHg</td>\n",
       "      <td>The Peppermill Restaurant &amp; Fireside Lounge</td>\n",
       "      <td>2.0</td>\n",
       "      <td>Honestly, I had high hopes and was really disa...</td>\n",
       "      <td>Nightlife, Lounges, Restaurants, Bars, America...</td>\n",
       "      <td>True</td>\n",
       "    </tr>\n",
       "    <tr>\n",
       "      <th>34186</th>\n",
       "      <td>LH-_iinkV1XOxSuJMBqhmw</td>\n",
       "      <td>Hammer's Grill &amp; Bar</td>\n",
       "      <td>5.0</td>\n",
       "      <td>blt wrap. yes! breakfast burrito, even better....</td>\n",
       "      <td>Bars, Food, American (Traditional), Sports Bar...</td>\n",
       "      <td>True</td>\n",
       "    </tr>\n",
       "    <tr>\n",
       "      <th>33171</th>\n",
       "      <td>pH0BLkL4cbxKzu471VZnuA</td>\n",
       "      <td>SUSHISAMBA - Las Vegas</td>\n",
       "      <td>5.0</td>\n",
       "      <td>I been wanting to try this since I had heard o...</td>\n",
       "      <td>Bars, Dim Sum, Japanese, Asian Fusion, Restaur...</td>\n",
       "      <td>True</td>\n",
       "    </tr>\n",
       "    <tr>\n",
       "      <th>47414</th>\n",
       "      <td>HhVmDybpU7L50Kb5A0jXTg</td>\n",
       "      <td>Guy Fieri's Vegas Kitchen &amp; Bar</td>\n",
       "      <td>4.0</td>\n",
       "      <td>Now that's some food!\\n\\nConveniently located ...</td>\n",
       "      <td>Breakfast &amp; Brunch, American (Traditional), Af...</td>\n",
       "      <td>True</td>\n",
       "    </tr>\n",
       "    <tr>\n",
       "      <th>3003</th>\n",
       "      <td>sMzNLdhJZGzYirIWt-fMAg</td>\n",
       "      <td>Sienna Mercato</td>\n",
       "      <td>3.0</td>\n",
       "      <td>Kinda average. The best italian is Il Piazziolo.</td>\n",
       "      <td>Cocktail Bars, Italian, American (New), Nightl...</td>\n",
       "      <td>True</td>\n",
       "    </tr>\n",
       "    <tr>\n",
       "      <th>56379</th>\n",
       "      <td>-i9CozOnsWOl5eLj66602Q</td>\n",
       "      <td>Vortex Bottle Shop</td>\n",
       "      <td>5.0</td>\n",
       "      <td>I came here on the hunt for Cold Brew coffee c...</td>\n",
       "      <td>Nightlife, Restaurants, Bars, Beer Bar, Wine Bars</td>\n",
       "      <td>True</td>\n",
       "    </tr>\n",
       "    <tr>\n",
       "      <th>5144</th>\n",
       "      <td>ohz8ljVxcZMo2bMGrBZfgw</td>\n",
       "      <td>Origin India Las Vegas</td>\n",
       "      <td>5.0</td>\n",
       "      <td>LOVE this restaurant!  The food is amazing, se...</td>\n",
       "      <td>Vegetarian, Nightlife, Indian, Salad, Pakistan...</td>\n",
       "      <td>True</td>\n",
       "    </tr>\n",
       "    <tr>\n",
       "      <th>25871</th>\n",
       "      <td>wHq1efQVz17338k_aUOX3w</td>\n",
       "      <td>Hob Nobs</td>\n",
       "      <td>4.0</td>\n",
       "      <td>Let me be honest. I'm kind of a snob. Maybe th...</td>\n",
       "      <td>Sandwiches, Restaurants, American (New), Cafes...</td>\n",
       "      <td>True</td>\n",
       "    </tr>\n",
       "    <tr>\n",
       "      <th>21946</th>\n",
       "      <td>95OKRGypX25zoyvJYunU4g</td>\n",
       "      <td>Blvd. Cocktail Company</td>\n",
       "      <td>5.0</td>\n",
       "      <td>Best drink I have ever had...lavender slip...h...</td>\n",
       "      <td>Cocktail Bars, Bars, Nightlife</td>\n",
       "      <td>True</td>\n",
       "    </tr>\n",
       "    <tr>\n",
       "      <th>13183</th>\n",
       "      <td>anzCdD5eIEHwydTpXhLlUA</td>\n",
       "      <td>Happy Dog</td>\n",
       "      <td>5.0</td>\n",
       "      <td>Happy Dog is a master class in dive bar ambian...</td>\n",
       "      <td>Nightlife, Music Venues, Arts &amp; Entertainment,...</td>\n",
       "      <td>True</td>\n",
       "    </tr>\n",
       "    <tr>\n",
       "      <th>31166</th>\n",
       "      <td>a1eWEC2nkv5ddN-10y3wKg</td>\n",
       "      <td>Plank Road Tavern</td>\n",
       "      <td>3.0</td>\n",
       "      <td>Came in during the wing crawl.  Pretty cool lo...</td>\n",
       "      <td>Pubs, Bars, Nightlife, Burgers, Restaurants</td>\n",
       "      <td>True</td>\n",
       "    </tr>\n",
       "    <tr>\n",
       "      <th>36910</th>\n",
       "      <td>BZe70vZg5aMxq9Eb3JZDxQ</td>\n",
       "      <td>Zoë's Coffee House</td>\n",
       "      <td>3.0</td>\n",
       "      <td>Good coffee, but the patrons are all either ve...</td>\n",
       "      <td>Arts &amp; Entertainment, Lounges, Coffee &amp; Tea, N...</td>\n",
       "      <td>True</td>\n",
       "    </tr>\n",
       "    <tr>\n",
       "      <th>41444</th>\n",
       "      <td>bRntmjztJ4dFDA_LYiEECw</td>\n",
       "      <td>Snakes &amp; Lattes Annex</td>\n",
       "      <td>5.0</td>\n",
       "      <td>Amazing hot chocolate and a helpful legion of ...</td>\n",
       "      <td>Food, Coffee &amp; Tea, Shopping, Nightlife, Resta...</td>\n",
       "      <td>True</td>\n",
       "    </tr>\n",
       "    <tr>\n",
       "      <th>18644</th>\n",
       "      <td>Z5kjUEm1A18l864gb3XA8A</td>\n",
       "      <td>Town Crier Pub</td>\n",
       "      <td>5.0</td>\n",
       "      <td>Lovely German style pub. \\nSchnitzel is over t...</td>\n",
       "      <td>Restaurants, Nightlife, Pubs, Bars</td>\n",
       "      <td>True</td>\n",
       "    </tr>\n",
       "    <tr>\n",
       "      <th>...</th>\n",
       "      <td>...</td>\n",
       "      <td>...</td>\n",
       "      <td>...</td>\n",
       "      <td>...</td>\n",
       "      <td>...</td>\n",
       "      <td>...</td>\n",
       "    </tr>\n",
       "    <tr>\n",
       "      <th>7259</th>\n",
       "      <td>Mk7GmW4TQnDrBA8jJ08rWw</td>\n",
       "      <td>Chasse Galerie</td>\n",
       "      <td>5.0</td>\n",
       "      <td>We came here for our anniversary and had the 1...</td>\n",
       "      <td>Canadian (New), Cocktail Bars, Bars, Nightlife...</td>\n",
       "      <td>True</td>\n",
       "    </tr>\n",
       "    <tr>\n",
       "      <th>23955</th>\n",
       "      <td>SUd3IyEN7n5OYEGyt_U5lg</td>\n",
       "      <td>Jefe's Taco Shop</td>\n",
       "      <td>5.0</td>\n",
       "      <td>First time at Jefe's tonight. Surf n turf burr...</td>\n",
       "      <td>Mexican, Restaurants, Breakfast &amp; Brunch, Fast...</td>\n",
       "      <td>False</td>\n",
       "    </tr>\n",
       "    <tr>\n",
       "      <th>21252</th>\n",
       "      <td>Ja4stXdNYr39u5CZHMNtjw</td>\n",
       "      <td>Cien Agaves Tacos &amp; Tequila - Old Town Scottsdale</td>\n",
       "      <td>5.0</td>\n",
       "      <td>Chips &amp; salsa are really good! Cheese crisp is...</td>\n",
       "      <td>Venues &amp; Event Spaces, Cocktail Bars, Nightlif...</td>\n",
       "      <td>True</td>\n",
       "    </tr>\n",
       "    <tr>\n",
       "      <th>50257</th>\n",
       "      <td>o9thrb4UrI4NJ6CGOAXb5g</td>\n",
       "      <td>Arby's</td>\n",
       "      <td>5.0</td>\n",
       "      <td>good food , good service. I am hooked on the r...</td>\n",
       "      <td>Restaurants, Fast Food, Sandwiches</td>\n",
       "      <td>False</td>\n",
       "    </tr>\n",
       "    <tr>\n",
       "      <th>54691</th>\n",
       "      <td>cHdJXLlKNWixBXpDwEGb_A</td>\n",
       "      <td>Chino Bandido</td>\n",
       "      <td>4.0</td>\n",
       "      <td>After lots of hype, i've finally made the jour...</td>\n",
       "      <td>Caribbean, Szechuan, Mexican, Restaurants, Chi...</td>\n",
       "      <td>False</td>\n",
       "    </tr>\n",
       "    <tr>\n",
       "      <th>12801</th>\n",
       "      <td>TTLDDEeUyOkM4JEsGkIYmw</td>\n",
       "      <td>Szechuan Express</td>\n",
       "      <td>4.0</td>\n",
       "      <td>Food was very yummy. Really hearty meal. Took ...</td>\n",
       "      <td>Local Flavor, Restaurants, Chinese, Fast Food</td>\n",
       "      <td>False</td>\n",
       "    </tr>\n",
       "    <tr>\n",
       "      <th>34747</th>\n",
       "      <td>O7UMzd3i-Zk8dMeyY9ZwoA</td>\n",
       "      <td>Art of Flavors</td>\n",
       "      <td>5.0</td>\n",
       "      <td>Delicious gelato, generous portions, awesome o...</td>\n",
       "      <td>Gelato, Ice Cream &amp; Frozen Yogurt, Restaurants...</td>\n",
       "      <td>False</td>\n",
       "    </tr>\n",
       "    <tr>\n",
       "      <th>35322</th>\n",
       "      <td>iHi-7vmZ6vQ1Kx6HOrqxKQ</td>\n",
       "      <td>5 Dollar Cafe</td>\n",
       "      <td>5.0</td>\n",
       "      <td>4 stars for giving my taste buds some real spi...</td>\n",
       "      <td>American (Traditional), Thai, Chinese, Breakfa...</td>\n",
       "      <td>False</td>\n",
       "    </tr>\n",
       "    <tr>\n",
       "      <th>46431</th>\n",
       "      <td>n8Zqqhff-2cxzWt_nwhU2Q</td>\n",
       "      <td>Public School 702</td>\n",
       "      <td>3.0</td>\n",
       "      <td>I am giving this place 3 stars just because so...</td>\n",
       "      <td>Gastropubs, Bars, American (New), Restaurants,...</td>\n",
       "      <td>True</td>\n",
       "    </tr>\n",
       "    <tr>\n",
       "      <th>28203</th>\n",
       "      <td>gaSP19bI-CJZ-yRA4lvoUw</td>\n",
       "      <td>Sushi Island</td>\n",
       "      <td>1.0</td>\n",
       "      <td>My last experience with Sushi Island was terri...</td>\n",
       "      <td>Restaurants, Sushi Bars</td>\n",
       "      <td>False</td>\n",
       "    </tr>\n",
       "    <tr>\n",
       "      <th>61985</th>\n",
       "      <td>-U7tvCtaraTQ9b0zBhpBMA</td>\n",
       "      <td>MGM Grand Buffet</td>\n",
       "      <td>2.0</td>\n",
       "      <td>I waited for an awesome meal at a place I visi...</td>\n",
       "      <td>Buffets, Restaurants, American (Traditional)</td>\n",
       "      <td>False</td>\n",
       "    </tr>\n",
       "    <tr>\n",
       "      <th>33463</th>\n",
       "      <td>UdoPZY4bjbE92mtReIEm5Q</td>\n",
       "      <td>Johnny Fox's Public House</td>\n",
       "      <td>1.0</td>\n",
       "      <td>Was there tonight  was seated around 6pm. Terr...</td>\n",
       "      <td>Nightlife, Irish, Restaurants, Pubs, Bars</td>\n",
       "      <td>True</td>\n",
       "    </tr>\n",
       "    <tr>\n",
       "      <th>35577</th>\n",
       "      <td>wKvvX7nls576gHPyzKgZ3w</td>\n",
       "      <td>California Pizza Kitchen at Legacy Village</td>\n",
       "      <td>5.0</td>\n",
       "      <td>This is probably my all around favorite restau...</td>\n",
       "      <td>American (New), Food, American (Traditional), ...</td>\n",
       "      <td>False</td>\n",
       "    </tr>\n",
       "    <tr>\n",
       "      <th>62239</th>\n",
       "      <td>A49jCMzZXswmSAZqZUAi8Q</td>\n",
       "      <td>E-Tea - Bubble Tea and Singaporean Cuisine</td>\n",
       "      <td>2.0</td>\n",
       "      <td>Came here because I desperately had to use the...</td>\n",
       "      <td>Restaurants, Coffee &amp; Tea, Food, Singaporean</td>\n",
       "      <td>False</td>\n",
       "    </tr>\n",
       "    <tr>\n",
       "      <th>39543</th>\n",
       "      <td>39lLJK_rrYY2NYomSsQdUA</td>\n",
       "      <td>Marco's Pizza</td>\n",
       "      <td>3.0</td>\n",
       "      <td>I had Marco's delivered to a hotel and specifi...</td>\n",
       "      <td>Restaurants, Pizza</td>\n",
       "      <td>False</td>\n",
       "    </tr>\n",
       "    <tr>\n",
       "      <th>22687</th>\n",
       "      <td>3uIXuw878fNjxZ2Li1diFg</td>\n",
       "      <td>The Hogtown Vegan</td>\n",
       "      <td>2.0</td>\n",
       "      <td>I had very very high hopes for this place. No ...</td>\n",
       "      <td>Restaurants, Southern, Beer, Wine &amp; Spirits, F...</td>\n",
       "      <td>False</td>\n",
       "    </tr>\n",
       "    <tr>\n",
       "      <th>36124</th>\n",
       "      <td>s-K-lEOvhRPHnW6FvSUXmw</td>\n",
       "      <td>Shawarma Max</td>\n",
       "      <td>2.0</td>\n",
       "      <td>I used to love this place a lot when it first ...</td>\n",
       "      <td>Middle Eastern, Restaurants</td>\n",
       "      <td>False</td>\n",
       "    </tr>\n",
       "    <tr>\n",
       "      <th>58195</th>\n",
       "      <td>x_BblTvFkQqM601Ad0kUDA</td>\n",
       "      <td>Nano's Dominican Cuisine</td>\n",
       "      <td>4.0</td>\n",
       "      <td>The plantains are really good.  I got the chic...</td>\n",
       "      <td>Mexican, Restaurants, Latin American</td>\n",
       "      <td>False</td>\n",
       "    </tr>\n",
       "    <tr>\n",
       "      <th>7338</th>\n",
       "      <td>XYIPXJ9parr9FtvvcGI1SA</td>\n",
       "      <td>GB Hand-pulled Noodles</td>\n",
       "      <td>4.0</td>\n",
       "      <td>This place gets quite busy! Came here for dinn...</td>\n",
       "      <td>Chinese, Restaurants, Noodles</td>\n",
       "      <td>False</td>\n",
       "    </tr>\n",
       "    <tr>\n",
       "      <th>57329</th>\n",
       "      <td>V80NaT5ZnfuA31yW3Y5Pdg</td>\n",
       "      <td>El Grito Taqueria</td>\n",
       "      <td>5.0</td>\n",
       "      <td>I got their amazing sweet potato soft tacos fr...</td>\n",
       "      <td>Event Planning &amp; Services, Food Trucks, Food, ...</td>\n",
       "      <td>False</td>\n",
       "    </tr>\n",
       "    <tr>\n",
       "      <th>20785</th>\n",
       "      <td>XXW_OFaYQkkGOGniujZFHg</td>\n",
       "      <td>The Peppermill Restaurant &amp; Fireside Lounge</td>\n",
       "      <td>4.0</td>\n",
       "      <td>Old school charm.  Huge portions of all your b...</td>\n",
       "      <td>Nightlife, Lounges, Restaurants, Bars, America...</td>\n",
       "      <td>True</td>\n",
       "    </tr>\n",
       "    <tr>\n",
       "      <th>48451</th>\n",
       "      <td>yfXk-WRkDUn0W_dAT1Pn0Q</td>\n",
       "      <td>Tokyo Kitchen</td>\n",
       "      <td>5.0</td>\n",
       "      <td>In the space of where Kaba curry used to be is...</td>\n",
       "      <td>Cafes, Restaurants, Japanese</td>\n",
       "      <td>False</td>\n",
       "    </tr>\n",
       "    <tr>\n",
       "      <th>39459</th>\n",
       "      <td>UGy0QULAPPRcOUJQSiRmGQ</td>\n",
       "      <td>Tropical Smoothie Cafe</td>\n",
       "      <td>5.0</td>\n",
       "      <td>Been coming to this location for years. EXTREM...</td>\n",
       "      <td>Restaurants, Sandwiches, Juice Bars &amp; Smoothie...</td>\n",
       "      <td>False</td>\n",
       "    </tr>\n",
       "    <tr>\n",
       "      <th>50304</th>\n",
       "      <td>IbKwJh9CzLCN-3JjM1DSWA</td>\n",
       "      <td>Pasta Andrea</td>\n",
       "      <td>2.0</td>\n",
       "      <td>Arrived at 11:30am on a Friday with a friend a...</td>\n",
       "      <td>Restaurants, Italian</td>\n",
       "      <td>False</td>\n",
       "    </tr>\n",
       "    <tr>\n",
       "      <th>64185</th>\n",
       "      <td>faPVqws-x-5k2CQKDNtHxw</td>\n",
       "      <td>Yardbird Southern Table &amp; Bar</td>\n",
       "      <td>5.0</td>\n",
       "      <td>The food is amazing. The decor is the best. Th...</td>\n",
       "      <td>Restaurants, American (New), Southern</td>\n",
       "      <td>False</td>\n",
       "    </tr>\n",
       "    <tr>\n",
       "      <th>39653</th>\n",
       "      <td>kTqhrYTKwbWUe-HxfKjB4Q</td>\n",
       "      <td>Colors Bistro</td>\n",
       "      <td>3.0</td>\n",
       "      <td>Hotels used to have lavish lunch buffets with ...</td>\n",
       "      <td>American (Traditional), Restaurants</td>\n",
       "      <td>False</td>\n",
       "    </tr>\n",
       "    <tr>\n",
       "      <th>13184</th>\n",
       "      <td>anzCdD5eIEHwydTpXhLlUA</td>\n",
       "      <td>Happy Dog</td>\n",
       "      <td>4.0</td>\n",
       "      <td>Great food and beer selection. Cool atmosphere...</td>\n",
       "      <td>Nightlife, Music Venues, Arts &amp; Entertainment,...</td>\n",
       "      <td>True</td>\n",
       "    </tr>\n",
       "    <tr>\n",
       "      <th>15899</th>\n",
       "      <td>2k01kgbLdNV9b19GrOqdNA</td>\n",
       "      <td>Italian Oasis Pizzeria</td>\n",
       "      <td>5.0</td>\n",
       "      <td>I've never written a review on yelp before but...</td>\n",
       "      <td>Food, Food Delivery Services, Desserts, Pizza,...</td>\n",
       "      <td>False</td>\n",
       "    </tr>\n",
       "    <tr>\n",
       "      <th>50832</th>\n",
       "      <td>9edPSkfXKsJmkZYIaOmA7Q</td>\n",
       "      <td>Las Vegas South Premium Outlets</td>\n",
       "      <td>3.0</td>\n",
       "      <td>nice indoor mall with much better deals than a...</td>\n",
       "      <td>Outlet Stores, Restaurants, Shopping Centers, ...</td>\n",
       "      <td>False</td>\n",
       "    </tr>\n",
       "    <tr>\n",
       "      <th>55307</th>\n",
       "      <td>p-8AMN9Q0qwym-3Pdle20Q</td>\n",
       "      <td>Pita Jungle</td>\n",
       "      <td>5.0</td>\n",
       "      <td>I have eaten at many Pita Jungle locations, bu...</td>\n",
       "      <td>Vegetarian, American (New), Middle Eastern, Me...</td>\n",
       "      <td>False</td>\n",
       "    </tr>\n",
       "  </tbody>\n",
       "</table>\n",
       "<p>36750 rows × 6 columns</p>\n",
       "</div>"
      ],
      "text/plain": [
       "                  business_id  \\\n",
       "723    v7ZFEEqJBg_r8NCwHRP_2A   \n",
       "55824  3b14ebd1k9y7VJbp5hC0gg   \n",
       "9156   ALgH4S65heUffUjcBiNJ0Q   \n",
       "64825  w1c_Uy60LSDiMsSjAsEqkw   \n",
       "39406  lv5Bnqlt93NnvNJ2oNcQ8Q   \n",
       "23120  uuGL8diLlHfeUeFuod3F-w   \n",
       "62981  mz9ltimeAIy2c2qf5ctljw   \n",
       "48521  sk0stgY4NDJYOX1MbNJ3Pg   \n",
       "11963  xKL4JhiFn75HyTqW8tfR6w   \n",
       "33933  1qwkbN3wu3AGDxMTXVz2gA   \n",
       "5993   VbqtbvvtNOe-YKA61-fSNA   \n",
       "20749  XXW_OFaYQkkGOGniujZFHg   \n",
       "1962   yGMCl0vYigshkXiZFIDTNw   \n",
       "45659  JzB7NITHQ7gVHGVZ1ntgIQ   \n",
       "33160  pH0BLkL4cbxKzu471VZnuA   \n",
       "11909  X2lgI8CuVEsH5UDs14rMhw   \n",
       "20359  XXW_OFaYQkkGOGniujZFHg   \n",
       "34186  LH-_iinkV1XOxSuJMBqhmw   \n",
       "33171  pH0BLkL4cbxKzu471VZnuA   \n",
       "47414  HhVmDybpU7L50Kb5A0jXTg   \n",
       "3003   sMzNLdhJZGzYirIWt-fMAg   \n",
       "56379  -i9CozOnsWOl5eLj66602Q   \n",
       "5144   ohz8ljVxcZMo2bMGrBZfgw   \n",
       "25871  wHq1efQVz17338k_aUOX3w   \n",
       "21946  95OKRGypX25zoyvJYunU4g   \n",
       "13183  anzCdD5eIEHwydTpXhLlUA   \n",
       "31166  a1eWEC2nkv5ddN-10y3wKg   \n",
       "36910  BZe70vZg5aMxq9Eb3JZDxQ   \n",
       "41444  bRntmjztJ4dFDA_LYiEECw   \n",
       "18644  Z5kjUEm1A18l864gb3XA8A   \n",
       "...                       ...   \n",
       "7259   Mk7GmW4TQnDrBA8jJ08rWw   \n",
       "23955  SUd3IyEN7n5OYEGyt_U5lg   \n",
       "21252  Ja4stXdNYr39u5CZHMNtjw   \n",
       "50257  o9thrb4UrI4NJ6CGOAXb5g   \n",
       "54691  cHdJXLlKNWixBXpDwEGb_A   \n",
       "12801  TTLDDEeUyOkM4JEsGkIYmw   \n",
       "34747  O7UMzd3i-Zk8dMeyY9ZwoA   \n",
       "35322  iHi-7vmZ6vQ1Kx6HOrqxKQ   \n",
       "46431  n8Zqqhff-2cxzWt_nwhU2Q   \n",
       "28203  gaSP19bI-CJZ-yRA4lvoUw   \n",
       "61985  -U7tvCtaraTQ9b0zBhpBMA   \n",
       "33463  UdoPZY4bjbE92mtReIEm5Q   \n",
       "35577  wKvvX7nls576gHPyzKgZ3w   \n",
       "62239  A49jCMzZXswmSAZqZUAi8Q   \n",
       "39543  39lLJK_rrYY2NYomSsQdUA   \n",
       "22687  3uIXuw878fNjxZ2Li1diFg   \n",
       "36124  s-K-lEOvhRPHnW6FvSUXmw   \n",
       "58195  x_BblTvFkQqM601Ad0kUDA   \n",
       "7338   XYIPXJ9parr9FtvvcGI1SA   \n",
       "57329  V80NaT5ZnfuA31yW3Y5Pdg   \n",
       "20785  XXW_OFaYQkkGOGniujZFHg   \n",
       "48451  yfXk-WRkDUn0W_dAT1Pn0Q   \n",
       "39459  UGy0QULAPPRcOUJQSiRmGQ   \n",
       "50304  IbKwJh9CzLCN-3JjM1DSWA   \n",
       "64185  faPVqws-x-5k2CQKDNtHxw   \n",
       "39653  kTqhrYTKwbWUe-HxfKjB4Q   \n",
       "13184  anzCdD5eIEHwydTpXhLlUA   \n",
       "15899  2k01kgbLdNV9b19GrOqdNA   \n",
       "50832  9edPSkfXKsJmkZYIaOmA7Q   \n",
       "55307  p-8AMN9Q0qwym-3Pdle20Q   \n",
       "\n",
       "                                                    name  stars_y  \\\n",
       "723                                        Bistro Divino      5.0   \n",
       "55824                                          Beaudevin      5.0   \n",
       "9156                                        West Addison      4.0   \n",
       "64825                                     Rumfish Grille      1.0   \n",
       "39406                             Los Cucos Mexican Cafe      5.0   \n",
       "23120                                        Tom's Urban      5.0   \n",
       "62981                Cirque du Soleil - The Beatles LOVE      5.0   \n",
       "48521                                     T-Mobile Arena      5.0   \n",
       "11963                             The Improv Comedy Club      3.0   \n",
       "33933                                            Topgolf      5.0   \n",
       "5993                                     Armadillo Grill      5.0   \n",
       "20749        The Peppermill Restaurant & Fireside Lounge      4.0   \n",
       "1962                                         Mimi's Cafe      2.0   \n",
       "45659                                      Primanti Bros      4.0   \n",
       "33160                             SUSHISAMBA - Las Vegas      5.0   \n",
       "11909                                     Andys Wine Bar      2.0   \n",
       "20359        The Peppermill Restaurant & Fireside Lounge      2.0   \n",
       "34186                               Hammer's Grill & Bar      5.0   \n",
       "33171                             SUSHISAMBA - Las Vegas      5.0   \n",
       "47414                    Guy Fieri's Vegas Kitchen & Bar      4.0   \n",
       "3003                                      Sienna Mercato      3.0   \n",
       "56379                                 Vortex Bottle Shop      5.0   \n",
       "5144                              Origin India Las Vegas      5.0   \n",
       "25871                                           Hob Nobs      4.0   \n",
       "21946                             Blvd. Cocktail Company      5.0   \n",
       "13183                                          Happy Dog      5.0   \n",
       "31166                                  Plank Road Tavern      3.0   \n",
       "36910                                 Zoë's Coffee House      3.0   \n",
       "41444                              Snakes & Lattes Annex      5.0   \n",
       "18644                                     Town Crier Pub      5.0   \n",
       "...                                                  ...      ...   \n",
       "7259                                      Chasse Galerie      5.0   \n",
       "23955                                   Jefe's Taco Shop      5.0   \n",
       "21252  Cien Agaves Tacos & Tequila - Old Town Scottsdale      5.0   \n",
       "50257                                             Arby's      5.0   \n",
       "54691                                      Chino Bandido      4.0   \n",
       "12801                                   Szechuan Express      4.0   \n",
       "34747                                     Art of Flavors      5.0   \n",
       "35322                                      5 Dollar Cafe      5.0   \n",
       "46431                                  Public School 702      3.0   \n",
       "28203                                       Sushi Island      1.0   \n",
       "61985                                   MGM Grand Buffet      2.0   \n",
       "33463                          Johnny Fox's Public House      1.0   \n",
       "35577         California Pizza Kitchen at Legacy Village      5.0   \n",
       "62239         E-Tea - Bubble Tea and Singaporean Cuisine      2.0   \n",
       "39543                                      Marco's Pizza      3.0   \n",
       "22687                                  The Hogtown Vegan      2.0   \n",
       "36124                                       Shawarma Max      2.0   \n",
       "58195                           Nano's Dominican Cuisine      4.0   \n",
       "7338                              GB Hand-pulled Noodles      4.0   \n",
       "57329                                  El Grito Taqueria      5.0   \n",
       "20785        The Peppermill Restaurant & Fireside Lounge      4.0   \n",
       "48451                                      Tokyo Kitchen      5.0   \n",
       "39459                             Tropical Smoothie Cafe      5.0   \n",
       "50304                                       Pasta Andrea      2.0   \n",
       "64185                      Yardbird Southern Table & Bar      5.0   \n",
       "39653                                      Colors Bistro      3.0   \n",
       "13184                                          Happy Dog      4.0   \n",
       "15899                             Italian Oasis Pizzeria      5.0   \n",
       "50832                    Las Vegas South Premium Outlets      3.0   \n",
       "55307                                        Pita Jungle      5.0   \n",
       "\n",
       "                                                    text  \\\n",
       "723    This is a lovely little place with fabulous fo...   \n",
       "55824  While scoping out all the cafeteria- line styl...   \n",
       "9156   Came here for St. Patty's Day with a group of ...   \n",
       "64825  The central business of this establishment is ...   \n",
       "39406  Wow muy buena comida y excelente servicio grac...   \n",
       "23120  I came in for a quick lunch with my girlfriend...   \n",
       "62981  I think the bottom line on this show is that, ...   \n",
       "48521  Loooove the arena. 4.5 stars but bumped it up ...   \n",
       "11963  You are at the mercy of who is the comedian at...   \n",
       "33933  Not a place I would go for dinner, but they ha...   \n",
       "5993   I have been coming here for two years and the ...   \n",
       "20749  I know there is another review for this place,...   \n",
       "1962   Service was slow, food was forgettable. They a...   \n",
       "45659  Pittsburgh Staples for $1000. \\n\\nP-Bro's, as ...   \n",
       "33160  Must haves: rib eye steak w shitake mushrooms ...   \n",
       "11909  I used to stop in over a year ago after the ba...   \n",
       "20359  Honestly, I had high hopes and was really disa...   \n",
       "34186  blt wrap. yes! breakfast burrito, even better....   \n",
       "33171  I been wanting to try this since I had heard o...   \n",
       "47414  Now that's some food!\\n\\nConveniently located ...   \n",
       "3003    Kinda average. The best italian is Il Piazziolo.   \n",
       "56379  I came here on the hunt for Cold Brew coffee c...   \n",
       "5144   LOVE this restaurant!  The food is amazing, se...   \n",
       "25871  Let me be honest. I'm kind of a snob. Maybe th...   \n",
       "21946  Best drink I have ever had...lavender slip...h...   \n",
       "13183  Happy Dog is a master class in dive bar ambian...   \n",
       "31166  Came in during the wing crawl.  Pretty cool lo...   \n",
       "36910  Good coffee, but the patrons are all either ve...   \n",
       "41444  Amazing hot chocolate and a helpful legion of ...   \n",
       "18644  Lovely German style pub. \\nSchnitzel is over t...   \n",
       "...                                                  ...   \n",
       "7259   We came here for our anniversary and had the 1...   \n",
       "23955  First time at Jefe's tonight. Surf n turf burr...   \n",
       "21252  Chips & salsa are really good! Cheese crisp is...   \n",
       "50257  good food , good service. I am hooked on the r...   \n",
       "54691  After lots of hype, i've finally made the jour...   \n",
       "12801  Food was very yummy. Really hearty meal. Took ...   \n",
       "34747  Delicious gelato, generous portions, awesome o...   \n",
       "35322  4 stars for giving my taste buds some real spi...   \n",
       "46431  I am giving this place 3 stars just because so...   \n",
       "28203  My last experience with Sushi Island was terri...   \n",
       "61985  I waited for an awesome meal at a place I visi...   \n",
       "33463  Was there tonight  was seated around 6pm. Terr...   \n",
       "35577  This is probably my all around favorite restau...   \n",
       "62239  Came here because I desperately had to use the...   \n",
       "39543  I had Marco's delivered to a hotel and specifi...   \n",
       "22687  I had very very high hopes for this place. No ...   \n",
       "36124  I used to love this place a lot when it first ...   \n",
       "58195  The plantains are really good.  I got the chic...   \n",
       "7338   This place gets quite busy! Came here for dinn...   \n",
       "57329  I got their amazing sweet potato soft tacos fr...   \n",
       "20785  Old school charm.  Huge portions of all your b...   \n",
       "48451  In the space of where Kaba curry used to be is...   \n",
       "39459  Been coming to this location for years. EXTREM...   \n",
       "50304  Arrived at 11:30am on a Friday with a friend a...   \n",
       "64185  The food is amazing. The decor is the best. Th...   \n",
       "39653  Hotels used to have lavish lunch buffets with ...   \n",
       "13184  Great food and beer selection. Cool atmosphere...   \n",
       "15899  I've never written a review on yelp before but...   \n",
       "50832  nice indoor mall with much better deals than a...   \n",
       "55307  I have eaten at many Pita Jungle locations, bu...   \n",
       "\n",
       "                                              categories  target  \n",
       "723    Food, Pizza, Wine Bars, Bars, Restaurants, Nig...    True  \n",
       "55824  Wine Bars, Sandwiches, Arts & Entertainment, N...    True  \n",
       "9156   Sports Bars, Nightlife, Restaurants, Bars, Ame...    True  \n",
       "64825  Steakhouses, Nightlife, Bars, Restaurants, Ame...    True  \n",
       "39406  Caterers, Tex-Mex, Restaurants, Nightlife, Mex...    True  \n",
       "23120  Gastropubs, Nightlife, Restaurants, American (...    True  \n",
       "62981  Arts & Entertainment, Music Venues, Nightlife,...    True  \n",
       "48521  Music Venues, Performing Arts, Nightlife, Arts...    True  \n",
       "11963                            Nightlife, Comedy Clubs    True  \n",
       "33933  Event Planning & Services, Party & Event Plann...    True  \n",
       "5993   Restaurants, Bars, Nightlife, Sports Bars, Ame...    True  \n",
       "20749  Nightlife, Lounges, Restaurants, Bars, America...    True  \n",
       "1962   Nightlife, Restaurants, American (Traditional)...    True  \n",
       "45659  Restaurants, Sports Bars, Nightlife, Sandwiche...    True  \n",
       "33160  Bars, Dim Sum, Japanese, Asian Fusion, Restaur...    True  \n",
       "11909  Bars, Nightlife, Restaurants, Jazz & Blues, Co...    True  \n",
       "20359  Nightlife, Lounges, Restaurants, Bars, America...    True  \n",
       "34186  Bars, Food, American (Traditional), Sports Bar...    True  \n",
       "33171  Bars, Dim Sum, Japanese, Asian Fusion, Restaur...    True  \n",
       "47414  Breakfast & Brunch, American (Traditional), Af...    True  \n",
       "3003   Cocktail Bars, Italian, American (New), Nightl...    True  \n",
       "56379  Nightlife, Restaurants, Bars, Beer Bar, Wine Bars    True  \n",
       "5144   Vegetarian, Nightlife, Indian, Salad, Pakistan...    True  \n",
       "25871  Sandwiches, Restaurants, American (New), Cafes...    True  \n",
       "21946                     Cocktail Bars, Bars, Nightlife    True  \n",
       "13183  Nightlife, Music Venues, Arts & Entertainment,...    True  \n",
       "31166        Pubs, Bars, Nightlife, Burgers, Restaurants    True  \n",
       "36910  Arts & Entertainment, Lounges, Coffee & Tea, N...    True  \n",
       "41444  Food, Coffee & Tea, Shopping, Nightlife, Resta...    True  \n",
       "18644                 Restaurants, Nightlife, Pubs, Bars    True  \n",
       "...                                                  ...     ...  \n",
       "7259   Canadian (New), Cocktail Bars, Bars, Nightlife...    True  \n",
       "23955  Mexican, Restaurants, Breakfast & Brunch, Fast...   False  \n",
       "21252  Venues & Event Spaces, Cocktail Bars, Nightlif...    True  \n",
       "50257                 Restaurants, Fast Food, Sandwiches   False  \n",
       "54691  Caribbean, Szechuan, Mexican, Restaurants, Chi...   False  \n",
       "12801      Local Flavor, Restaurants, Chinese, Fast Food   False  \n",
       "34747  Gelato, Ice Cream & Frozen Yogurt, Restaurants...   False  \n",
       "35322  American (Traditional), Thai, Chinese, Breakfa...   False  \n",
       "46431  Gastropubs, Bars, American (New), Restaurants,...    True  \n",
       "28203                            Restaurants, Sushi Bars   False  \n",
       "61985       Buffets, Restaurants, American (Traditional)   False  \n",
       "33463          Nightlife, Irish, Restaurants, Pubs, Bars    True  \n",
       "35577  American (New), Food, American (Traditional), ...   False  \n",
       "62239       Restaurants, Coffee & Tea, Food, Singaporean   False  \n",
       "39543                                 Restaurants, Pizza   False  \n",
       "22687  Restaurants, Southern, Beer, Wine & Spirits, F...   False  \n",
       "36124                        Middle Eastern, Restaurants   False  \n",
       "58195               Mexican, Restaurants, Latin American   False  \n",
       "7338                       Chinese, Restaurants, Noodles   False  \n",
       "57329  Event Planning & Services, Food Trucks, Food, ...   False  \n",
       "20785  Nightlife, Lounges, Restaurants, Bars, America...    True  \n",
       "48451                       Cafes, Restaurants, Japanese   False  \n",
       "39459  Restaurants, Sandwiches, Juice Bars & Smoothie...   False  \n",
       "50304                               Restaurants, Italian   False  \n",
       "64185              Restaurants, American (New), Southern   False  \n",
       "39653                American (Traditional), Restaurants   False  \n",
       "13184  Nightlife, Music Venues, Arts & Entertainment,...    True  \n",
       "15899  Food, Food Delivery Services, Desserts, Pizza,...   False  \n",
       "50832  Outlet Stores, Restaurants, Shopping Centers, ...   False  \n",
       "55307  Vegetarian, American (New), Middle Eastern, Me...   False  \n",
       "\n",
       "[36750 rows x 6 columns]"
      ]
     },
     "execution_count": 25,
     "metadata": {},
     "output_type": "execute_result"
    }
   ],
   "source": [
    "combined"
   ]
  },
  {
   "cell_type": "code",
   "execution_count": 26,
   "metadata": {},
   "outputs": [],
   "source": [
    "# Split into training and test data sets\n",
    "# 划分训练集和测试集\n",
    "training_data, test_data = modsel.train_test_split(combined, \n",
    "                                                   test_size=0.3, \n",
    "                                                   random_state=123)"
   ]
  },
  {
   "cell_type": "code",
   "execution_count": 27,
   "metadata": {},
   "outputs": [
    {
     "data": {
      "text/plain": [
       "(25725, 6)"
      ]
     },
     "execution_count": 27,
     "metadata": {},
     "output_type": "execute_result"
    }
   ],
   "source": [
    "training_data.shape"
   ]
  },
  {
   "cell_type": "code",
   "execution_count": 28,
   "metadata": {},
   "outputs": [
    {
     "data": {
      "text/plain": [
       "(11025, 6)"
      ]
     },
     "execution_count": 28,
     "metadata": {},
     "output_type": "execute_result"
    }
   ],
   "source": [
    "test_data.shape"
   ]
  },
  {
   "cell_type": "markdown",
   "metadata": {},
   "source": [
    "## 4.2.2 使用tf-idf变换来缩放词袋\n",
    "### 例 4-3　 转换特征"
   ]
  },
  {
   "cell_type": "code",
   "execution_count": 31,
   "metadata": {},
   "outputs": [],
   "source": [
    "# Represent the review text as a bag-of-words\n",
    "# 用词袋表示点评文本\n",
    "bow_transform = text.CountVectorizer()\n",
    "X_tr_bow = bow_transform.fit_transform(training_data['text'])"
   ]
  },
  {
   "cell_type": "code",
   "execution_count": 32,
   "metadata": {},
   "outputs": [
    {
     "data": {
      "text/plain": [
       "36468"
      ]
     },
     "execution_count": 32,
     "metadata": {},
     "output_type": "execute_result"
    }
   ],
   "source": [
    "len(bow_transform.vocabulary_)"
   ]
  },
  {
   "cell_type": "code",
   "execution_count": 35,
   "metadata": {},
   "outputs": [],
   "source": [
    "X_te_bow = bow_transform.transform(test_data['text'])"
   ]
  },
  {
   "cell_type": "code",
   "execution_count": 36,
   "metadata": {},
   "outputs": [],
   "source": [
    "y_tr = training_data['target']\n",
    "y_te = test_data['target']"
   ]
  },
  {
   "cell_type": "code",
   "execution_count": 37,
   "metadata": {},
   "outputs": [],
   "source": [
    "# Create the tf-idf representation using the bag-of-words matrix\n",
    "# 使用词袋矩阵创建tf-idf表示\n",
    "tfidf_trfm = text.TfidfTransformer(norm=None)\n",
    "X_tr_tfidf = tfidf_trfm.fit_transform(X_tr_bow)"
   ]
  },
  {
   "cell_type": "code",
   "execution_count": 38,
   "metadata": {},
   "outputs": [],
   "source": [
    "X_te_tfidf = tfidf_trfm.transform(X_te_bow)"
   ]
  },
  {
   "cell_type": "code",
   "execution_count": 39,
   "metadata": {},
   "outputs": [],
   "source": [
    "# 仅出于练习的目的，对词袋表示进行l2归一化\n",
    "X_tr_l2 = preproc.normalize(X_tr_bow, axis=0)\n",
    "X_te_l2 = preproc.normalize(X_te_bow, axis=0)"
   ]
  },
  {
   "cell_type": "markdown",
   "metadata": {},
   "source": [
    "## 例4-4 使用默认参数训练逻辑回归分类器"
   ]
  },
  {
   "cell_type": "code",
   "execution_count": 44,
   "metadata": {},
   "outputs": [],
   "source": [
    "def simple_logistic_classify(X_tr, y_tr, X_test, y_test, description, _C=1.0):\n",
    "    ## Helper function to train a logistic classifier and score on test data\n",
    "    ### 辅助函数，用来训练逻辑回归分类器，并在测试数据上进行评分。\n",
    "    m = LogisticRegression(C=_C, solver='liblinear').fit(X_tr, y_tr)\n",
    "    s = m.score(X_test, y_test)\n",
    "    print ('Test score with', description, 'features:', s)\n",
    "    return m"
   ]
  },
  {
   "cell_type": "code",
   "execution_count": 45,
   "metadata": {},
   "outputs": [
    {
     "name": "stdout",
     "output_type": "stream",
     "text": [
      "Test score with bow features: 0.7951927437641724\n",
      "Test score with l2-normalized features: 0.7498412698412699\n",
      "Test score with tf-idf features: 0.7743310657596372\n"
     ]
    }
   ],
   "source": [
    "m1 = simple_logistic_classify(X_tr_bow, y_tr, X_te_bow, y_te, 'bow')\n",
    "m2 = simple_logistic_classify(X_tr_l2, y_tr, X_te_l2, y_te, 'l2-normalized')\n",
    "m3 = simple_logistic_classify(X_tr_tfidf, y_tr, X_te_tfidf, y_te, 'tf-idf')"
   ]
  },
  {
   "cell_type": "markdown",
   "metadata": {},
   "source": [
    "事与愿违，结果显示准确率最高的分类器使用的是词袋特征，这真是出乎意料。  \n",
    "实际上， 出现这种情况的原因在于分类器没有很好地“调优”，这是在比较分类器时经常犯的错误。"
   ]
  },
  {
   "cell_type": "markdown",
   "metadata": {},
   "source": [
    "## 例4-5 使用网格搜索对逻辑回归进行调优\n",
    "Tune regularization parameters using grid search"
   ]
  },
  {
   "cell_type": "code",
   "execution_count": 46,
   "metadata": {},
   "outputs": [],
   "source": [
    "# 确定一个搜索网格，然后对每种特征集合执行5-折网格搜索\n",
    "param_grid_ = {'C': [1e-5, 1e-3, 1e-1, 1e0, 1e1, 1e2]}\n",
    "# 为词袋表示法进行分类器调优\n",
    "bow_search = modsel.GridSearchCV(LogisticRegression(), cv=5, param_grid=param_grid_)\n",
    "# 为L2-归一化词向量进行分类器调优\n",
    "l2_search = modsel.GridSearchCV(LogisticRegression(), cv=5,\n",
    "                               param_grid=param_grid_)\n",
    "# 为tf-idf进行分类器调优\n",
    "tfidf_search = modsel.GridSearchCV(LogisticRegression(), cv=5,\n",
    "                                   param_grid=param_grid_)"
   ]
  },
  {
   "cell_type": "code",
   "execution_count": 47,
   "metadata": {},
   "outputs": [
    {
     "name": "stderr",
     "output_type": "stream",
     "text": [
      "/home/appadmin/.pyenv/versions/3.6.2/lib/python3.6/site-packages/sklearn/linear_model/logistic.py:433: FutureWarning: Default solver will be changed to 'lbfgs' in 0.22. Specify a solver to silence this warning.\n",
      "  FutureWarning)\n"
     ]
    },
    {
     "data": {
      "text/plain": [
       "GridSearchCV(cv=5, error_score='raise-deprecating',\n",
       "       estimator=LogisticRegression(C=1.0, class_weight=None, dual=False, fit_intercept=True,\n",
       "          intercept_scaling=1, max_iter=100, multi_class='warn',\n",
       "          n_jobs=None, penalty='l2', random_state=None, solver='warn',\n",
       "          tol=0.0001, verbose=0, warm_start=False),\n",
       "       fit_params=None, iid='warn', n_jobs=None,\n",
       "       param_grid={'C': [1e-05, 0.001, 0.1, 1.0, 10.0, 100.0]},\n",
       "       pre_dispatch='2*n_jobs', refit=True, return_train_score='warn',\n",
       "       scoring=None, verbose=0)"
      ]
     },
     "execution_count": 47,
     "metadata": {},
     "output_type": "execute_result"
    }
   ],
   "source": [
    "%%time\n",
    "bow_search.fit(X_tr_bow, y_tr)"
   ]
  },
  {
   "cell_type": "code",
   "execution_count": 48,
   "metadata": {},
   "outputs": [
    {
     "data": {
      "text/plain": [
       "0.7922254616132167"
      ]
     },
     "execution_count": 48,
     "metadata": {},
     "output_type": "execute_result"
    }
   ],
   "source": [
    "bow_search.best_score_"
   ]
  },
  {
   "cell_type": "code",
   "execution_count": 50,
   "metadata": {},
   "outputs": [
    {
     "name": "stderr",
     "output_type": "stream",
     "text": [
      "/home/appadmin/.pyenv/versions/3.6.2/lib/python3.6/site-packages/sklearn/linear_model/logistic.py:433: FutureWarning: Default solver will be changed to 'lbfgs' in 0.22. Specify a solver to silence this warning.\n",
      "  FutureWarning)\n"
     ]
    },
    {
     "name": "stdout",
     "output_type": "stream",
     "text": [
      "CPU times: user 13.1 s, sys: 24.1 ms, total: 13.1 s\n",
      "Wall time: 13.1 s\n"
     ]
    },
    {
     "data": {
      "text/plain": [
       "GridSearchCV(cv=5, error_score='raise-deprecating',\n",
       "       estimator=LogisticRegression(C=1.0, class_weight=None, dual=False, fit_intercept=True,\n",
       "          intercept_scaling=1, max_iter=100, multi_class='warn',\n",
       "          n_jobs=None, penalty='l2', random_state=None, solver='warn',\n",
       "          tol=0.0001, verbose=0, warm_start=False),\n",
       "       fit_params=None, iid='warn', n_jobs=None,\n",
       "       param_grid={'C': [1e-05, 0.001, 0.1, 1.0, 10.0, 100.0]},\n",
       "       pre_dispatch='2*n_jobs', refit=True, return_train_score='warn',\n",
       "       scoring=None, verbose=0)"
      ]
     },
     "execution_count": 50,
     "metadata": {},
     "output_type": "execute_result"
    }
   ],
   "source": [
    "%%time\n",
    "l2_search.fit(X_tr_l2, y_tr)"
   ]
  },
  {
   "cell_type": "code",
   "execution_count": 51,
   "metadata": {},
   "outputs": [
    {
     "data": {
      "text/plain": [
       "0.7861613216715257"
      ]
     },
     "execution_count": 51,
     "metadata": {},
     "output_type": "execute_result"
    }
   ],
   "source": [
    "l2_search.best_score_"
   ]
  },
  {
   "cell_type": "code",
   "execution_count": 53,
   "metadata": {},
   "outputs": [
    {
     "name": "stderr",
     "output_type": "stream",
     "text": [
      "/home/appadmin/.pyenv/versions/3.6.2/lib/python3.6/site-packages/sklearn/linear_model/logistic.py:433: FutureWarning: Default solver will be changed to 'lbfgs' in 0.22. Specify a solver to silence this warning.\n",
      "  FutureWarning)\n"
     ]
    },
    {
     "name": "stdout",
     "output_type": "stream",
     "text": [
      "CPU times: user 1min 32s, sys: 3.48 ms, total: 1min 32s\n",
      "Wall time: 1min 32s\n"
     ]
    },
    {
     "data": {
      "text/plain": [
       "GridSearchCV(cv=5, error_score='raise-deprecating',\n",
       "       estimator=LogisticRegression(C=1.0, class_weight=None, dual=False, fit_intercept=True,\n",
       "          intercept_scaling=1, max_iter=100, multi_class='warn',\n",
       "          n_jobs=None, penalty='l2', random_state=None, solver='warn',\n",
       "          tol=0.0001, verbose=0, warm_start=False),\n",
       "       fit_params=None, iid='warn', n_jobs=None,\n",
       "       param_grid={'C': [1e-05, 0.001, 0.1, 1.0, 10.0, 100.0]},\n",
       "       pre_dispatch='2*n_jobs', refit=True, return_train_score='warn',\n",
       "       scoring=None, verbose=0)"
      ]
     },
     "execution_count": 53,
     "metadata": {},
     "output_type": "execute_result"
    }
   ],
   "source": [
    "%%time\n",
    "tfidf_search.fit(X_tr_tfidf, y_tr)"
   ]
  },
  {
   "cell_type": "code",
   "execution_count": 54,
   "metadata": {},
   "outputs": [
    {
     "data": {
      "text/plain": [
       "0.7962293488824101"
      ]
     },
     "execution_count": 54,
     "metadata": {},
     "output_type": "execute_result"
    }
   ],
   "source": [
    "tfidf_search.best_score_"
   ]
  },
  {
   "cell_type": "code",
   "execution_count": 55,
   "metadata": {},
   "outputs": [
    {
     "data": {
      "text/plain": [
       "{'C': 1.0}"
      ]
     },
     "execution_count": 55,
     "metadata": {},
     "output_type": "execute_result"
    }
   ],
   "source": [
    "bow_search.best_params_"
   ]
  },
  {
   "cell_type": "code",
   "execution_count": 56,
   "metadata": {},
   "outputs": [
    {
     "data": {
      "text/plain": [
       "{'C': 10.0}"
      ]
     },
     "execution_count": 56,
     "metadata": {},
     "output_type": "execute_result"
    }
   ],
   "source": [
    "l2_search.best_params_"
   ]
  },
  {
   "cell_type": "code",
   "execution_count": 57,
   "metadata": {},
   "outputs": [
    {
     "data": {
      "text/plain": [
       "{'C': 0.001}"
      ]
     },
     "execution_count": 57,
     "metadata": {},
     "output_type": "execute_result"
    }
   ],
   "source": [
    "tfidf_search.best_params_"
   ]
  },
  {
   "cell_type": "code",
   "execution_count": 63,
   "metadata": {},
   "outputs": [
    {
     "data": {
      "text/plain": [
       "{'mean_fit_time': array([ 0.20936193,  0.37182889,  2.32752681,  5.30911713, 11.35843544,\n",
       "        15.91900396]),\n",
       " 'std_fit_time': array([0.00543066, 0.0194037 , 0.24400674, 0.28612785, 1.56425142,\n",
       "        1.21037819]),\n",
       " 'mean_score_time': array([0.00233417, 0.00233431, 0.00238228, 0.00235901, 0.00234666,\n",
       "        0.00238104]),\n",
       " 'std_score_time': array([2.30314816e-05, 2.71032328e-05, 5.72105240e-05, 5.50887474e-05,\n",
       "        9.64060494e-06, 2.64863190e-05]),\n",
       " 'param_C': masked_array(data=[1e-05, 0.001, 0.1, 1.0, 10.0, 100.0],\n",
       "              mask=[False, False, False, False, False, False],\n",
       "        fill_value='?',\n",
       "             dtype=object),\n",
       " 'params': [{'C': 1e-05},\n",
       "  {'C': 0.001},\n",
       "  {'C': 0.1},\n",
       "  {'C': 1.0},\n",
       "  {'C': 10.0},\n",
       "  {'C': 100.0}],\n",
       " 'split0_test_score': array([0.627089  , 0.72697241, 0.7897396 , 0.79323747, 0.78663039,\n",
       "        0.76797513]),\n",
       " 'split1_test_score': array([0.627089  , 0.72522347, 0.79440342, 0.79071123, 0.76816945,\n",
       "        0.75320637]),\n",
       " 'split2_test_score': array([0.62701652, 0.73955296, 0.79222546, 0.79533528, 0.78114674,\n",
       "        0.7675413 ]),\n",
       " 'split3_test_score': array([0.62713841, 0.72608865, 0.79432348, 0.79374028, 0.78227061,\n",
       "        0.75758165]),\n",
       " 'split4_test_score': array([0.62713841, 0.72531104, 0.78402022, 0.78810264, 0.77916019,\n",
       "        0.7649689 ]),\n",
       " 'mean_test_score': array([0.62709427, 0.72862974, 0.79094266, 0.79222546, 0.77947522,\n",
       "        0.76225462]),\n",
       " 'std_test_score': array([4.47147133e-05, 5.49793649e-03, 3.85774636e-03, 2.54075546e-03,\n",
       "        6.16047995e-03, 5.86113490e-03]),\n",
       " 'rank_test_score': array([6, 5, 2, 1, 3, 4], dtype=int32),\n",
       " 'split0_train_score': array([0.62709558, 0.73832548, 0.87754507, 0.94922008, 0.98785169,\n",
       "        0.9985908 ]),\n",
       " 'split1_train_score': array([0.62709558, 0.74128966, 0.87778804, 0.95087225, 0.98741435,\n",
       "        0.99834783]),\n",
       " 'split2_train_score': array([0.6271137 , 0.73999028, 0.87672498, 0.94922255, 0.98892128,\n",
       "        0.99810496]),\n",
       " 'split3_train_score': array([0.62708323, 0.74248093, 0.87600214, 0.94873913, 0.98795005,\n",
       "        0.99854234]),\n",
       " 'split4_train_score': array([0.62708323, 0.74044021, 0.87804286, 0.95150867, 0.98877606,\n",
       "        0.99868811]),\n",
       " 'mean_train_score': array([0.62709427, 0.74050531, 0.87722062, 0.94991253, 0.98818269,\n",
       "        0.99845481]),\n",
       " 'std_train_score': array([1.11780521e-05, 1.38126347e-03, 7.52816267e-04, 1.07714159e-03,\n",
       "        5.74738405e-04, 2.07087435e-04])}"
      ]
     },
     "execution_count": 63,
     "metadata": {},
     "output_type": "execute_result"
    }
   ],
   "source": [
    "# 检查网格搜索的一个输出，看看它是如何运行的\n",
    "bow_search.cv_results_\n",
    "# l2_search.cv_results_\n",
    "# tfidf_search.cv_results_"
   ]
  },
  {
   "cell_type": "markdown",
   "metadata": {},
   "source": [
    "## 在箱线图中绘制出交叉验证结果,对分类器性能进行可视化比较\n",
    "Plot cross validation results"
   ]
  },
  {
   "cell_type": "code",
   "execution_count": 64,
   "metadata": {},
   "outputs": [],
   "source": [
    "import pickle"
   ]
  },
  {
   "cell_type": "code",
   "execution_count": 65,
   "metadata": {},
   "outputs": [],
   "source": [
    "results_file = open('data/yelp_dataset/tfidf_gridcv_results.pkl', 'wb')\n",
    "pickle.dump(bow_search, results_file, -1)\n",
    "pickle.dump(tfidf_search, results_file, -1)\n",
    "pickle.dump(l2_search, results_file, -1)\n",
    "results_file.close()"
   ]
  },
  {
   "cell_type": "code",
   "execution_count": 66,
   "metadata": {},
   "outputs": [],
   "source": [
    "pkl_file = open('data/yelp_dataset/tfidf_gridcv_results.pkl', 'rb')\n",
    "bow_search = pickle.load(pkl_file)\n",
    "tfidf_search = pickle.load(pkl_file)\n",
    "l2_search = pickle.load(pkl_file)\n",
    "pkl_file.close()"
   ]
  },
  {
   "cell_type": "code",
   "execution_count": 70,
   "metadata": {},
   "outputs": [
    {
     "data": {
      "text/html": [
       "<div>\n",
       "<style scoped>\n",
       "    .dataframe tbody tr th:only-of-type {\n",
       "        vertical-align: middle;\n",
       "    }\n",
       "\n",
       "    .dataframe tbody tr th {\n",
       "        vertical-align: top;\n",
       "    }\n",
       "\n",
       "    .dataframe thead th {\n",
       "        text-align: right;\n",
       "    }\n",
       "</style>\n",
       "<table border=\"1\" class=\"dataframe\">\n",
       "  <thead>\n",
       "    <tr style=\"text-align: right;\">\n",
       "      <th></th>\n",
       "      <th>bow</th>\n",
       "      <th>l2</th>\n",
       "      <th>tfidf</th>\n",
       "    </tr>\n",
       "  </thead>\n",
       "  <tbody>\n",
       "    <tr>\n",
       "      <th>0</th>\n",
       "      <td>0.627094</td>\n",
       "      <td>0.627094</td>\n",
       "      <td>0.670943</td>\n",
       "    </tr>\n",
       "    <tr>\n",
       "      <th>1</th>\n",
       "      <td>0.728630</td>\n",
       "      <td>0.627094</td>\n",
       "      <td>0.796229</td>\n",
       "    </tr>\n",
       "    <tr>\n",
       "      <th>2</th>\n",
       "      <td>0.790943</td>\n",
       "      <td>0.627794</td>\n",
       "      <td>0.787600</td>\n",
       "    </tr>\n",
       "    <tr>\n",
       "      <th>3</th>\n",
       "      <td>0.792225</td>\n",
       "      <td>0.708455</td>\n",
       "      <td>0.767891</td>\n",
       "    </tr>\n",
       "    <tr>\n",
       "      <th>4</th>\n",
       "      <td>0.779475</td>\n",
       "      <td>0.786161</td>\n",
       "      <td>0.754519</td>\n",
       "    </tr>\n",
       "    <tr>\n",
       "      <th>5</th>\n",
       "      <td>0.762255</td>\n",
       "      <td>0.783907</td>\n",
       "      <td>0.751059</td>\n",
       "    </tr>\n",
       "  </tbody>\n",
       "</table>\n",
       "</div>"
      ],
      "text/plain": [
       "        bow        l2     tfidf\n",
       "0  0.627094  0.627094  0.670943\n",
       "1  0.728630  0.627094  0.796229\n",
       "2  0.790943  0.627794  0.787600\n",
       "3  0.792225  0.708455  0.767891\n",
       "4  0.779475  0.786161  0.754519\n",
       "5  0.762255  0.783907  0.751059"
      ]
     },
     "execution_count": 70,
     "metadata": {},
     "output_type": "execute_result"
    }
   ],
   "source": [
    "search_results = pd.DataFrame.from_dict({\n",
    "    'bow': bow_search.cv_results_['mean_test_score'],\n",
    "    'l2': l2_search.cv_results_['mean_test_score'],\n",
    "    'tfidf': tfidf_search.cv_results_['mean_test_score']\n",
    "})\n",
    "search_results"
   ]
  },
  {
   "cell_type": "code",
   "execution_count": 71,
   "metadata": {},
   "outputs": [],
   "source": [
    "%matplotlib inline\n",
    "import matplotlib.pyplot as plt\n",
    "import seaborn as sns\n",
    "sns.set_style(\"whitegrid\")"
   ]
  },
  {
   "cell_type": "code",
   "execution_count": 76,
   "metadata": {},
   "outputs": [
    {
     "data": {
      "image/png": "[encoded data removed]",
      "text/plain": [
       "<Figure size 648x432 with 1 Axes>"
      ]
     },
     "metadata": {},
     "output_type": "display_data"
    }
   ],
   "source": [
    "# 在箱线图中绘制出交叉验证结果 \n",
    "# 对分类器性能进行可视化比较\n",
    "plt.figure(figsize=(9, 6))\n",
    "ax = sns.boxplot(data=search_results, width=0.4)\n",
    "ax.set_ylabel('Accuracy', size=14)\n",
    "ax.tick_params(labelsize=14)\n",
    "plt.savefig('tfidf_gridcv_results.png')"
   ]
  },
  {
   "cell_type": "markdown",
   "metadata": {},
   "source": [
    "## 例4-6 比较不同特征集合的最终训练与测试步骤"
   ]
  },
  {
   "cell_type": "code",
   "execution_count": 77,
   "metadata": {},
   "outputs": [
    {
     "name": "stdout",
     "output_type": "stream",
     "text": [
      "Test score with bow features: 0.7951927437641724\n",
      "Test score with l2-normalized features: 0.7942857142857143\n",
      "Test score with tf-idf features: 0.7968253968253968\n"
     ]
    }
   ],
   "source": [
    "# 使用前面找到的最优超参数设置，在整个训练集上训练一个最终模型\n",
    "# 在测试集上测量准确度\n",
    "m1 = simple_logistic_classify(X_tr_bow, y_tr, X_te_bow, y_te, 'bow',\n",
    "                              _C=bow_search.best_params_['C'])\n",
    "m2 = simple_logistic_classify(X_tr_l2, y_tr, X_te_l2, y_te, 'l2-normalized',\n",
    "                              _C=l2_search.best_params_['C'])\n",
    "m3 = simple_logistic_classify(X_tr_tfidf, y_tr, X_te_tfidf, y_te, 'tf-idf',\n",
    "                              _C=tfidf_search.best_params_['C'])"
   ]
  }
 ],
 "metadata": {
  "hide_input": false,
  "kernelspec": {
   "display_name": "Python 3",
   "language": "python",
   "name": "python3"
  },
  "language_info": {
   "codemirror_mode": {
    "name": "ipython",
    "version": 3
   },
   "file_extension": ".py",
   "mimetype": "text/x-python",
   "name": "python",
   "nbconvert_exporter": "python",
   "pygments_lexer": "ipython3",
   "version": "3.6.2"
  },
  "toc": {
   "base_numbering": 1,
   "nav_menu": {
    "height": "198px",
    "width": "332px"
   },
   "number_sections": true,
   "sideBar": true,
   "skip_h1_title": false,
   "title_cell": "Table of Contents",
   "title_sidebar": "Contents",
   "toc_cell": false,
   "toc_position": {
    "height": "calc(100% - 180px)",
    "left": "10px",
    "top": "150px",
    "width": "384px"
   },
   "toc_section_display": true,
   "toc_window_display": true
  }
 },
 "nbformat": 4,
 "nbformat_minor": 1
}
